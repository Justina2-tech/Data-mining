{
 "cells": [
  {
   "cell_type": "markdown",
   "metadata": {
    "id": "EgDA6r3saifm"
   },
   "source": [
    "# Import Libraries"
   ]
  },
  {
   "cell_type": "code",
   "execution_count": 3,
   "metadata": {
    "id": "vTcE7H9vN0KM"
   },
   "outputs": [],
   "source": [
    "import numpy as np\n",
    "import pandas as pd\n",
    "import matplotlib.pyplot as plt"
   ]
  },
  {
   "cell_type": "markdown",
   "metadata": {
    "id": "LG5ARI4PaoIs"
   },
   "source": [
    "# Read file using pandas.\n",
    "\n",
    "# View sample data"
   ]
  },
  {
   "cell_type": "code",
   "execution_count": 4,
   "metadata": {
    "id": "-hL50vmLOAxC"
   },
   "outputs": [
    {
     "data": {
      "text/html": [
       "<div>\n",
       "<style scoped>\n",
       "    .dataframe tbody tr th:only-of-type {\n",
       "        vertical-align: middle;\n",
       "    }\n",
       "\n",
       "    .dataframe tbody tr th {\n",
       "        vertical-align: top;\n",
       "    }\n",
       "\n",
       "    .dataframe thead th {\n",
       "        text-align: right;\n",
       "    }\n",
       "</style>\n",
       "<table border=\"1\" class=\"dataframe\">\n",
       "  <thead>\n",
       "    <tr style=\"text-align: right;\">\n",
       "      <th></th>\n",
       "      <th>sample_id</th>\n",
       "      <th>length</th>\n",
       "      <th>width</th>\n",
       "      <th>thickness</th>\n",
       "      <th>surface_area</th>\n",
       "      <th>mass</th>\n",
       "      <th>compactness</th>\n",
       "      <th>hardness</th>\n",
       "      <th>shell_top_radius</th>\n",
       "      <th>water_content</th>\n",
       "      <th>carbohydrate_content</th>\n",
       "      <th>variety</th>\n",
       "    </tr>\n",
       "  </thead>\n",
       "  <tbody>\n",
       "    <tr>\n",
       "      <th>0</th>\n",
       "      <td>71</td>\n",
       "      <td>11.67</td>\n",
       "      <td>12.8025</td>\n",
       "      <td>8.055075</td>\n",
       "      <td>34.65</td>\n",
       "      <td>1375.50</td>\n",
       "      <td>0.93005</td>\n",
       "      <td>19.145</td>\n",
       "      <td>4.4604</td>\n",
       "      <td>0.048668</td>\n",
       "      <td>0.175</td>\n",
       "      <td>c_avellana</td>\n",
       "    </tr>\n",
       "    <tr>\n",
       "      <th>1</th>\n",
       "      <td>72</td>\n",
       "      <td>13.86</td>\n",
       "      <td>13.0995</td>\n",
       "      <td>7.349907</td>\n",
       "      <td>38.10</td>\n",
       "      <td>1439.55</td>\n",
       "      <td>0.93401</td>\n",
       "      <td>8.780</td>\n",
       "      <td>4.7844</td>\n",
       "      <td>0.048826</td>\n",
       "      <td>0.167</td>\n",
       "      <td>c_avellana</td>\n",
       "    </tr>\n",
       "    <tr>\n",
       "      <th>2</th>\n",
       "      <td>1</td>\n",
       "      <td>20.53</td>\n",
       "      <td>15.5925</td>\n",
       "      <td>9.565427</td>\n",
       "      <td>49.89</td>\n",
       "      <td>1623.30</td>\n",
       "      <td>0.96217</td>\n",
       "      <td>5.120</td>\n",
       "      <td>5.2893</td>\n",
       "      <td>0.049521</td>\n",
       "      <td>0.174</td>\n",
       "      <td>c_americana</td>\n",
       "    </tr>\n",
       "    <tr>\n",
       "      <th>3</th>\n",
       "      <td>73</td>\n",
       "      <td>14.13</td>\n",
       "      <td>12.2220</td>\n",
       "      <td>7.182949</td>\n",
       "      <td>35.43</td>\n",
       "      <td>1412.25</td>\n",
       "      <td>0.90178</td>\n",
       "      <td>13.694</td>\n",
       "      <td>4.8168</td>\n",
       "      <td>0.049595</td>\n",
       "      <td>0.167</td>\n",
       "      <td>c_avellana</td>\n",
       "    </tr>\n",
       "    <tr>\n",
       "      <th>4</th>\n",
       "      <td>2</td>\n",
       "      <td>15.85</td>\n",
       "      <td>14.7240</td>\n",
       "      <td>8.622661</td>\n",
       "      <td>43.29</td>\n",
       "      <td>1512.00</td>\n",
       "      <td>0.96261</td>\n",
       "      <td>10.925</td>\n",
       "      <td>4.6296</td>\n",
       "      <td>0.050384</td>\n",
       "      <td>0.173</td>\n",
       "      <td>c_americana</td>\n",
       "    </tr>\n",
       "  </tbody>\n",
       "</table>\n",
       "</div>"
      ],
      "text/plain": [
       "   sample_id  length    width  thickness  surface_area     mass  compactness  \\\n",
       "0         71   11.67  12.8025   8.055075         34.65  1375.50      0.93005   \n",
       "1         72   13.86  13.0995   7.349907         38.10  1439.55      0.93401   \n",
       "2          1   20.53  15.5925   9.565427         49.89  1623.30      0.96217   \n",
       "3         73   14.13  12.2220   7.182949         35.43  1412.25      0.90178   \n",
       "4          2   15.85  14.7240   8.622661         43.29  1512.00      0.96261   \n",
       "\n",
       "   hardness  shell_top_radius  water_content  carbohydrate_content  \\\n",
       "0    19.145            4.4604       0.048668                 0.175   \n",
       "1     8.780            4.7844       0.048826                 0.167   \n",
       "2     5.120            5.2893       0.049521                 0.174   \n",
       "3    13.694            4.8168       0.049595                 0.167   \n",
       "4    10.925            4.6296       0.050384                 0.173   \n",
       "\n",
       "       variety  \n",
       "0   c_avellana  \n",
       "1   c_avellana  \n",
       "2  c_americana  \n",
       "3   c_avellana  \n",
       "4  c_americana  "
      ]
     },
     "execution_count": 4,
     "metadata": {},
     "output_type": "execute_result"
    }
   ],
   "source": [
    "# Your code to read the dataset\n",
    "\n",
    "# Your code to Print sample dataset\n",
    "df=pd.read_csv(\"hazelnut.csv\")\n",
    "df.head()"
   ]
  },
  {
   "cell_type": "markdown",
   "metadata": {
    "id": "WnGnTNqkawfY"
   },
   "source": [
    "# Print the shape of the pandas dataframe"
   ]
  },
  {
   "cell_type": "code",
   "execution_count": 5,
   "metadata": {
    "id": "pcta_d82ODhH"
   },
   "outputs": [
    {
     "data": {
      "text/plain": [
       "(201, 12)"
      ]
     },
     "execution_count": 5,
     "metadata": {},
     "output_type": "execute_result"
    }
   ],
   "source": [
    "# Print the shape of the dataframe\n",
    "df.shape"
   ]
  },
  {
   "cell_type": "markdown",
   "metadata": {
    "id": "s80O-FZObB4y"
   },
   "source": [
    "# Separate the dataframe into input matrix X and output vector y"
   ]
  },
  {
   "cell_type": "code",
   "execution_count": 6,
   "metadata": {
    "id": "_xjUSDvYOLnT"
   },
   "outputs": [],
   "source": [
    "X = df.drop('variety',axis=1).values\n",
    "y = df['variety'].values"
   ]
  },
  {
   "cell_type": "markdown",
   "metadata": {
    "id": "J3z_OFTnbWTQ"
   },
   "source": [
    "# Import the SKlearn methods"
   ]
  },
  {
   "cell_type": "code",
   "execution_count": 7,
   "metadata": {
    "id": "3cqkFPjJONPW"
   },
   "outputs": [],
   "source": [
    "from sklearn.model_selection import train_test_split\n",
    "from sklearn.neighbors import KNeighborsClassifier\n",
    "from sklearn.linear_model import LogisticRegression\n",
    "from sklearn.preprocessing import StandardScaler\n",
    "from sklearn.metrics import confusion_matrix, ConfusionMatrixDisplay, classification_report, accuracy_score\n"
   ]
  },
  {
   "cell_type": "markdown",
   "metadata": {
    "id": "RiWAFigDbmqZ"
   },
   "source": [
    "# Split the data into train and test sets - X_train, X_test, y_train, y_test.\n",
    "\n",
    "# Use test size of 40%.\n",
    "\n",
    "## Hint: Use Sklearn function: https://scikit-learn.org/stable/modules/generated/sklearn.model_selection.train_test_split.html"
   ]
  },
  {
   "cell_type": "code",
   "execution_count": 8,
   "metadata": {
    "colab": {
     "base_uri": "https://localhost:8080/"
    },
    "id": "-epouREEOTsI",
    "outputId": "431f8397-1a8a-4d78-ba00-b2cbb3c9eb3f"
   },
   "outputs": [
    {
     "name": "stdout",
     "output_type": "stream",
     "text": [
      "(120, 11)\n",
      "(81, 11)\n",
      "(120,)\n",
      "(81,)\n"
     ]
    }
   ],
   "source": [
    "# Your code to separate train and test sixe.\n",
    "\n",
    "# Your code to Print the shapes of the X_train, X_test, y_train, y_test\n",
    "X_train, X_test, y_train, y_test = train_test_split (X,y, test_size =0.4, random_state = 42)\n",
    "print (X_train.shape)\n",
    "print(X_test.shape)\n",
    "print(y_train.shape)\n",
    "print(y_test.shape)"
   ]
  },
  {
   "cell_type": "markdown",
   "metadata": {
    "id": "8S67VGukcmqn"
   },
   "source": [
    "# Scale the dataset between 0-1.\n",
    "\n",
    "![image.png](data:image/png;base64,iVBORw0KGgoAAAANSUhEUgAABAgAAACpCAYAAACmlg9CAAAgAElEQVR4nO3dO4/kWrYf+HUuetADNKTaJeBiDAkoJuQILSOZzrjJsE4Do0Ey+gskwxwrGdYY12DGJyDzC9yIdK53OiKBGaCdCzJlyiELuCNPiChA41xDwSNHJseo2XH4WCT35isisv4/INFdeZLkJrn5WIv78VOWZRkBAAAAAAAAwA/tb85dAAAAAAAAAAA4PyQIAAAAAAAAAAAJAgAAAAAAAABAggAAAAAAAAAACAkCAAAAAAAAACAkCAAAAAAAAACAkCAAAAAAAAAAAEKCAAAAAAAAAAAICQIAAAAAAAAAICQIAAAAAAAAAICQIAAAAAAAAAAAQoIAAAAAAAAAAIjod7oLLP/ypzHKAQAAAAAAAAAj8//819r/hhYEAAAAAAAAAKDfgkBqyjoAAAAAAAAAwOVQ6Q2AFgQAAAAAAAAAgAQBAAAAAAAAACBBAAAAAAAAAACEBAEAAAAAAAAAEBIEAAAAAAAAAEBIEAAAAAAAAAAoSdP03EUYVedpDgEA4DdpmlIURfT+/k5JkhQeHoZhkBCCvnz5Qs/Pz2csJQAA/KiSJKHdbkdvb2/0+PhIruuOsp00TSlJktMzMf88FEKQEIJub2/Jtm0yTXOUMgCMabPZ0Gq1Isdx6OnpiQzDOHeRBvVTlmWZzgJy7kT/z38dpUAAANckSRJ6fX2lzWbTmlE2TZPiOJ6oZAAAAERRFNFqtaIoik6/E0LQ8XgcdDtpmtJms6HX11dKkqT177fbLdm2PWgZAKYwm80K15Nt2/T09ESWZZ2xVGpUYnm0IAAA6CgIAlqtVqfEgGma9PDwQEIIStOUVqtV4e+v4cEBAAAfg3wOBUFQ+L1lWfT09DTotpIkocVicUoMCCHIsiy6v7+nNE3p9fWVDodDYRm0HoBrJVsNbDYbIiLa7Xa02+3IcRzyPO/qWxSgBQEAQAfPz8+FBIDruuR5HgkhTr/b7XY0n89P/8bXEgAAmEIURbRYLApBuWVZ5Pv+4IF5kiQ0m81OyXLDMGi73Va2c3NzcyoPWtTBR5AkCb28vJwSBUTfk2Pr9fpi3/dUYnkMUggAoEm2HJBs2ybf9wvJAfn7fBYZX0sAAGBsQRDQfD4/BeNCCPJ9n8IwHPw5lKYpzefzU3JABkfcdjzPO/1/tKiDj8A0TVqv17Rer0+/k9dEueXONUEXAwAADUmSFJIDQojCS0/Zer2mJElICHH1Tc4AAOCyBUFAy+Xy9G8hBG2329EC8nIrhaZ+2LZtnxIJSBDAR+I4DpmmWUjMLZdLStP0KgenRhcDAAAN3MA02+32jCX6OA6HQ+FF0zAMJFUAABRxyYExWg1I5W50RET7/R737YHk3zWIkFS5Bmma0t3dXeFdZr1ek+M4ZyxVEQYpBAAY0G63qzywHx8fz1Saj+fl5aXQJO/SHqoAAJeKa91W19R/KC8vL4V/l7vVQXdyXAcJYzZcB5mUu7m5Of1usViQaZpX1c0UYxAAACh6fX0t/FuO0gzD2O12hX/j2AIAtEvTlBaLRWGq3aenp1EHSeMS5re3t6Nt70dTPrbXFFz+6AzDKIxJQESFZM81QIIAAEBBmqZsc7/ywITQzW63KzTJw5gNAABqgiA4TS9I9D1AcV131G2+v79XfocWX8N5e3sr/Pv+/v5MJYEu5JgEkkziXQskCAAAFGw2m8LXGSJ8LRlS+WUIrQcAANodDodKU//ylLtjKLf4wpgxw0mSBOMPfADlVgSbzabwIeSSIUEAAKCA+1qCB/Yw0jRlXzYBAKDZy8tLIXltmuboX/LLLb7kdmEY5echWtRdJ9M0K++J+XFCLhkSBAAALQ6HQyWbL4TAC9FAgiCotM5Ac0oAgGZpmtJmsyn87uHhYfTtllt8EaFF3VC4FiF417he5YGsr6UVAWYxAABokKbpaS7bPMMwCn0+y8ZoXSDHQUiShL59+3YqkxCCbm9vBx1BWjZx/Pbt2+lhJoSgL1++kGmalcGv0jSl1WpFnz59Itd1lZu3BkHAZtS5MR/ympqzypdmWXYhBN3f33f6qpYkSeXcm6bZun+yDF+/fqU0TckwDHp6emo9P3K/39/fK8e9z1zKU9adH1Wapqfr5uvXr0T0PVhrq3fl5eT5dhxH6ZxEUXS6VmVdu7+/H2WAOllWWY/KddSyrEHvfdwxldurq7fyunt8fGwNrOT6397eTvvS5ZwRfQ+QVc/ZUMrJVSHE6GMP7Ha7yhduqe6erXLP1DVlXcyfb+7+aVlWpa7Jevjw8KBcjjRNaT6fV545QojG5yFR8zuHvEfk66rOczpfvvJ7j8rHkq73xnzZ5XEf4vxOWXccx6m8Q65Wq0r3g4uTaXJ/+Tlzf/lZdzEAgKux3W4z3/cz13UzwzAyItL6MU1z0PKEYZiZppkJIVq37bruINtS2U/XdbP9fp+FYVg4Tvv9vnH96/U68zxPeTvcj+d5lXUfj8fMdd3a48Qt04Y7/03711aGMAw7LSeE0C57lk1bd35kTdeNZVm1y63X68Z7TFOdbbtWTdPMjsfjIPsXx3Fj/SxvN47jXttrux7Kx3e9XmfH4zGzbVu5Pnc9Z9vttvM5G1q5HLZtD76NIe7Z2+12sPLs93utulh3z1XRtR46jqNUD/f7/el9w3Ecpe1wP4ZhsOuP47j2nAkhGp9lnPV6rf3c6Hqdtd3f1uu1VtmzbNq6k5evD/LYn5NKLI8EAQBAThzHnR7QOg9MVdwDUgiR2badua6bOY7Dvqh2eUksv1xz23NdN7Msq9OLitQl4aLywllX/vKPzgvR8XhkXxp0j2Hbi0E5waL7IsWZsu786Hzfb33hLL/MqtZXrq6rbrNLvSmrC5Asy2q8J3QJPpr2TQhR2CZ37Mr1uSko7XrOyi/6OudsaNyzqkvQ1Ea1ng51363TtS4SUaeE1Xq9VqqHbfWorR72PbZ1922VOu44jtYx4er/GNeZ67qD1qmp607ZdrutrHeo5EMXSBAAAGgKwzBzHKfwwz3gyn+T/xnixu95XmG7QojM9/3KF8Hj8chm2XUennEcV16u67Yn/17nRSVf1vKx4spuWVbj8XUcp1Cu4/FYeLjLhz4XAOt83QvDUPmFar/fF7Yny8DVnfwLB/cSyv3oJJ2mrDs/Os/zTsfNMIzaF838dVE+7rK+172glpNK+Zd0mfRpStx1PZ/cfcGyLPaFmXuh1w0+6gLw8vWe12W/u56zfKBsmqbWORtDfj/GvHY9zyvce7l9lseD+xkiYc59Ca9rqcJ95dati3X1ue74dr3+1ut15XiVlzcMo/V5WA6y84kHIURtUk23nuo8L/L1U5ZB9zqr+9Ep99R1h8N9bBhivV0hQQAAMIDyS/LQXQjKuOZoTVl6LjutGgjHcVwJUE3TbH3RrMvw6zav7fuSmw/My8eJOy46D2Xu6w73hU63DPK/55MD+cCLOyeqXySnrDs/unIz4nwQywXWWVZMDnAvqdz5yF8T8rrjkj7H47F3UkwKw7BSB8v7WMYlGVVxyYG2uiuX445X3T266zmTQQtXJi6RqHsf66IcSLW13hoKd18cs8UEdz8csy5y9bCtZUZdPdQ9J/v9vncgmT8/tm031nEiUu6GpNOiLv9c73qd5e9v5XOi2jJq6rrTZKz1doEEAQBAT0M8sHWUA++uL8kqZeS+IKv2W64LZHRbT5S/KOg+NOXLEHec+mbtuS8Z3Eu/fBniysDVn+12W3hx4V5YyvVAJdiYsu786PLHjftCWq478iu4/L1lWbXXGfcSL/spt51XLuGmez7rXqrbcF8HVXHlVg06uePFlbfLOcv/vilxypVh7CbEXHPpKXBfucdKhnQJ8LKMT2CrPNdUk8Ic7uu6bpct7rmq023keDw2Ple4c6eaIFBtUVcuQxkX7OfvjYZhVOpT+Tmlcj+auu60GWu9ncqCBAEAQD99H9g6uJcT3/eVlu0SFJRfiIUQyv3tuG4GusF9/kWi6wtVln1/8HLBBFdGneauOhl/nTLkv87WlSdf71RarExdd+C3gfs45WvL87xTENyWhKtrZi+E6NQiROd87vd7NvBUeZHlyq2CK7POdcoFZnXHSPecyeuqyzkb+6t6n2PWR/m+OFbLhT4JbC4Ya0ti1LWaUcUlyKZuUZdlv9Vx7jhxSW9VOsmTOI5r971cBjkGgKxLKt04VBLfU9YdFdy5Pdc4BCqxPKY5BABowE1lOPR0TUTf5z4uT/dn27bSlFVdyshNVfX09NRrvmXdZbkpBLvMpe37Pvt7bq5h1fUnSVJZvmnao7oycNNVrVYrStOUHMchz/PY5WzbpizLlMo6dd2B70zTrK3z5eP666+/UhAEZBgGhWGofYzlXPe+7zdOX8itV2db5em4hBDk+77SOripYFWWKdddwzBqrwtVdedF55wRfT8eQghar9fa52zM6Q65sna5d+pK07RyX+zzzGiyWq0K+6lzHsplFEI0ng9ZD/N1WLcecuXSnSovP5WnXKduPdKp4zrn7v39vfK7uv1rKkP5PiGnP5Tnt25/wzBULuuUdUcVdzySJBllSuwh/M25CwAAcMm4B/YYN3TuxVz15YSbH/n+/r5xmfJLue782eWHPFG3BEHfdTThEgSq526oF/DyetI0pSiKyDAM5cCrzdR1B5pxQVQQBMovqdy1RfR9Pu22a7RPUqxP0lDW6zyV5YIgqFwjnudpXRdcYkL3hZ47Z/IeuV6vleZ5Lxsz0Tb19iTufjFGYmK321EQBIXfOY6jXBfLdartvr/ZbCr79vT01Kse6r4rcNfQkO8afZM75WPaNXAur0fus+d5g+zv1HVHFVeXyu+XlwQtCAAAGpQf2IZhDP4ixr2Y27at/EB7fX2tlLHpobbb7SoPQd2XIS4Q0Q0sdb5IdFFev84LDVe2LskLbj1E1OmLJGfqutPV3//939M//uM/Dr7eLv7u7/6O/vjHP462fu7aIPr+kqpybOuCv7pWKm3LqtbbPknDIAgq2356empcpq7+OY6jtE1piC/adefMdd3GFhsS92V2zBYEXGAxRYJg7KSu9PLyUvi3EKK1PkmbzaZyPh8eHhqXKddDIcTk9XCoFnVN6y9TfWbrtqhrWg93j1Jt8aZi6rqjirsf1CWDLwESBAAANbiH2RjBU/nlhKj95Zro+8NlsVhUHvxtX6bLD1Ai0n4ZGiKA5l6qh3zJ7fMlgGtm2PWFqMx13cHq0dR1p6t/+qd/on/4h38YfL1d2LY9aoKA+8qq06qDqzOqX9W5pJjKddknaRgEAdvFpa2O73a7ynX2+PjYur28oVr69DlnUza7z2+zbMyEhMQlJobe191uVzkftm0r7R9XFy3Lany+cXXfcRyt+yAXQF9aizpu/arPoT4tk/L63hvbTF13dHD1qS4xeQmQIAAAqDFF8+vD4VD5AmxZVuOLgWwGt1gsKg8Yz/Mav3jJ/n55qg/QchnydL+YDfVFQmf9qi80dc2ldQPnw+HAJhpUv2aorH/KugNquOSZarDNJSV1vqp3TYpxiaa2uhBFEb28vFTqoGmatF6vO21T92Wcu0d3uY/0PWdlY3fTOdeXR+6+OHRigqsXbYmjJEno9fW10rRcpS5y29P9avzRW9QNlbyou86GSoRMXXf6QgsCAIArNFQz8ybll2ui6ouF/EJ1OBzo7e2NoihiA0/f91tfsIfoQzpEX8mxX6r7BA5DvQzVfbEZ6oV66roDari+uqrHlqu3j4+PyoFql6RYXUKsXOcPhwMlSUJJktDb2xtbvx3HUWqFUrdN3WtjqDFihj5nYw88do4xCKZoUVdXL8rbkYnOKIpq66JlWbTdbhuPC7e9LnVoiGfGmC3q+j6zx7rOiPSTgnWmrju6rm3wXyQIAABqDDUoTxMuCfH29kZvb29E9P2lvCnLLL9Iu67bqQkykf5LXhRFlTIN8bVkyOQL97WkT4KgS/KCW49uE+omU9edPjzPG6zlRF9j7mtdy5g+Y1/0CVRVrinuej4cDnR3d0dE31+o5Q9HdmPwfV/5Gh4qqO4yMGJZ33NWDp7GHn/gXKYYoJBLQujURaLv5051wDuu7g/RAuUSW9SV91O1lcSYLeqGvFamrjtDQAsCAIArM/YDO78dld9JMklhWRY9PDxoP6iHeDEf4mvJ2E1V+4w/MNYAhUPPgDF13enj06dP9OnTp0m2dU7c8ddprtxnsLuu9Y2r79xo3uV1m6ZJ9/f3yoNi5skkVp5usDlEv2+5nrK+wdNHNHYTeCL+XIxZF4foW89127u0FnV9xh/gkihTX2dd1z/2fayvS25VgAQBAACDe3EY+qsQ94KbH0VePjy+fPlyCub6zKLAZdh1H4jcyOO6wf3Yg3qNMf5AlzEayi8mQ86AMXXdATV9gijuutAJNLo2UebudbLVQr4eyXV2mUawbIhB9lS62Kjoc864e+pHnSb0XC3qbNs+1UMhRKEuqg7CqbM93fUNUQ+nblGncw2P2aJuzH0kGrfufHRIEAAAMLgvXGMMUFhm27bSdGZdDNFvlevDrvuSOPbgj9z6VZtpc9O1df1aMmZ/3anrDqjh+jOrXh99mnBzCSOdKczyhBCjD87FBQu6SUZuNpYu1+rQ52yK5sl1I6KPFfDUNQ8fGlcvfN8frctG36CVS5jrroNo3BZ1fVq5DHmdcTNgjN2ibsy6o+sc44b08TfnLgAAwCXiArChX4i4bYzZDLtvq4g0TSvTABHpNxPkHuRDPii7jtZc97I31NeSIZMgU9cdaDd0CwCd5buOP0BUrUtTvFD3vRfVJfK6tPTpc87KQc8QrStUTB1YjP31t85Ux7OrzWbTu189VweH7m7XdfyBIa+zIcYx0HFpdQcJAgCAKzdUM/MuxtxG3wfUZrMZ5EVx6i8JquULgoANXIaaNm3sF+pLehn6EXFBus454UYKH3v8gXMMktX3PnQ4HNivmkMMckikfs7OOf4AV8Yxz+VUUzlOPS98n0RVXcJ8iBZ1Y47HQ6RWT4dsPTDFDBhT1x1dQ3SrmhISBAAAJef6WnLJDocD+zLUpR/f1H3zVcqXJAn7MtS1ny23j5f8MgD99Q2i+gSbQ06RdslftYiIlssl+7I9dUufPl9m++JaCzUNxtbXORKel261WrH1ULcOcIHtkMkX7typPIsWi8VFXGcfxdgtJ4eGBAEAQAl3I5eD2wxpqK9AaZpSEASdyqCyvTRNTy8L5TLrBr1cX9YhA2fuZavt3KVpego6ymUZatq0oV+mL6HuQBHXMkb1vPcZQLRPfavry95FFEWdg1TVuhsEAe12O3b/huoXrXPcy6aaHo0r41gtCOoGXB0j4Vmuj133KUkSpbrI1X+VbW42GwqCgE1u6wZ9XB0cMnDskpCX1xn3t13O+xQJpqnrji6uPENPEzokJAgAAEqm+lrCPWi5l4UmMriVP7rbU3mIrlYriqKILMsi27YL/63uuNQFGV0e2ofDgW5ubtimmKrbbbJcLimKIrJtu/f+EfGBw9AvAlPXHWjXp1tSn4E7db5AqjRz7XKNbjYbms/nNJ/PW5cXQnRKTCRJQqvVioQQ9Pj4WPnvXe5vfc4Z95zoGnDq4hIRute/qiFmv1FVXm/bvPWcKIpoNpvRbDZrDfS61sPlcklCCHZQWN3kTZcuN8vlkmazWePfSLrPxPx1xu1fl+tsigTT1HVHV59k5DkgQQAAUDLVlyEuO89NmVTncDjQYrGgzWZzWrbpgcjtQ1vQHQQBBUFwGtm8/LLBvcgkSUJ3d3encrVpe3maz+d0OByUgg/dF4Ln52fabDZkGAa7f3VNeZv2b4oE09R1B5r1DaL61BkuAOCuyyAI6ObmpnJ/KyfF0jRVrksyySRbGB0OB6VlueCg6V6UJAnNZjNK05Q8z1P6aitbPtUFUn3PGdcSivuK2VSGrrgki0oCtYspEp4Sd/x17mtBEJyeEyr1WLce5p9DT09PJISo1CEu4bZYLOju7o5dJ3ffbboXy2dyFEX0/Pxc+3dd1l2+zri/192/KVrU1a1zzLqjq3wcx5gmdFCZJveXnzP3l591FwMAuApxHGdEVPgxTXO07TmOU9me7/uNyxyPx2y9XmdCiNMyhmFk+/2+dXuGYVS2t16v2b/1PC8jokwIkW23W3Z513ULy8RxfCqXYRhs2cvbJyK27HEcF7ZXV06uzPkfy7LYcriue9q/MAzZ/fM8r7BcGIan/aurF9wxPh6PrWXXNXXdgXq+7ytfV5xynRFCKC/L1XlZn7nyOY5T+G/cPY+7dsvCMMxM0+y0z/LaU7nPhmF4Oj7yflM+3uXjdTweM9u2T/9d3r/qjskY5yxfhvw9dCjc9T/GfSZ/HJuO5xC454NKXYzjuFLO8r2bw9WBuu3ln0fyGuKWL+9P/jxx9Yu7FsrPVbmu/N+apql0vlWft/lnW911xu1f23W2Xq8r61A5N7qmrju68s/cuveSqajE8kgQAADkcA8z7mE9lP1+zz7AXdctvOQfj8csDMPM87zKS7lpmsoBHvcyIl9c9vv9aTtyG0KIwktN3Uvx8XjMPM8rJAfqylR+UMp9iOM4y7LvD2zXdQt/p/rivt1ua49n3f7lX2rKZZMvGOX9qzvm3EvKWAmmqesO1OOCKNXjygXotm0rb5tLEMjly0GF4zhsUGFZFltv5X1BriuO42y73VbqUfk+0aYuUWjbdhbH8anO5u8D+bJz+yyv43Lioq5cfc5ZlmWVY0D0W2Km6R46FO5ZNUbgziU8x7xncOelqS7atl24bwshWhOlUl09tCwrC8PwtJ18PcwH5k3BbxiGhX2pCzq5ukz0W7K3/Mwql6ENd/5M06zdv/x1xiUIZLnKZarbPy6RNVaCacq6o4O7x4+RhFCFBAEAgCbuYTbGy10e9xBW/al74a9zPB7ZAJ374V5suQew/Nv8A7npBbIuSaFahjbcC1HdussvKlygpLN/XIJizATTlHUH6vVpAdC3zoRhqHS+XdetPd8694W6YEMXd69Vrat1iUCde0efc5ZlavexsZIDWcYHt+XWIX1N3aIuy77vl+o9XOWe3kbneWRZVqd62BR01iUpVMvQpi4BoXKPGOM6IxovwTR13VHFnYNzJuaRIAAA0DT11xJJ5yEuX9K6PsxUAoq69be9MKi8vByPR/br21D7qLJ/lmWx57Vt/2zbbty/pi+bY5my7kAVF0TpNB/lAhTd89N0Pal+FSt36VF5ofZ9v3OSSeU+ULeNtkCg7WW/7znLsvoWPFMEHFI5Yaub5GjDfSEfOgnB2e/3Ss+I/H43JcDa1CWG8z9162+79lTqgMo9vM/1pnqdcfpcZ1O2qJOmrjsqyvVr7GPQBgkCAAAN3MNs6BeuJnEcN35VE0JklmVl6/W698OM63dH9L1JfdtLSF0/f52meeW+meWHZ5/AI8uK/Za5cnbZP5Uvga7rZoZhFH6mSDBNWXegaLvdVs65TvNRx3F61xku2JbnXHbdUeX7fm1QINfped5g9Zqrtypl5xIaQojM87zWOt73nElcMlK1DEPgAvgh7zfnaFGX11YXTdMcrC5yrbFU6iEXkMqgU6dcdfsqhDh1vemj7jpzHKexnPv9vvN1Jp/Dfa+zLqasO00urXtBlqnF8j9lWZaRhuVf/kRERP6f/6qzGADAxdvtdjSfzwu/syyLwjCcvCyHw4GSJDmNVC1HvB1yfmSi4hzXQgit0YV3u91pNO0+oxJHUURpmg6yrrLD4XAaQVl3aqWh9m9qU9UduDxyxHBZ1/ucc3nt5K/NMeuRHD1edzv56/Rc9fycZbi5uSmMEu84Dq3X61HWTUS03+8nH31dPqemqIt96iER9b728vfvMfbzmq+zLqasO5zn52darVanfwshaL/fn/X4qcTySBAAAPz/yjdyIiLP81qnEgIAADiHzWZDi8Wi8Lshgvg0Tenz58+F3wkh6Hg89lovwI8iTVO6ubkpTHF4Ce+UKrH830xVmDHJbNtut6PdbkdRFLHztgIANPn69Wvld9f05RgAAH4sjuNUkgHlRHcX8ktznmVZvdcL8KMIgqCQHDAMg1zXPWOJ1F1tgiCKIprP5/T582e6ubmhu7s7ms/nNJ/PaTab0d3dHf30008UBMG5iwoAVyBN08oLkRCCbNs+U4kAAADalbsUbDab3h/KuOUfHh56rRPgR3E4HOjl5aXwO8/zrqZrxtUlCKIooru7O5rNZrTb7U59SupM3U8KAK6T7Aef5zjOmUoDAACgxrKsSjK7PJ6Orvf398K/hRBoQQCgIE1TWi6XhXdKx3Gu6p3yqhIEQRDQfD4/ZTUty6I4jmm/31OWZRSGYSVZgObBAKACX0sAAOBabbfbwjvv4XDonCQ4HA6VFnWWZeGjG4CC1Wp1GrSS6Hss6vv+GUuk72oSBEEQFLIxtm2fboYyKWBZVuEE6I5YDQA/pjRN6fX1tfA727bxtQQAAK5G+UPZbrfrNCDaZrOp/O7p6alX2QB+BEEQFLq3CyFovV5fTdcC6SoSBEmSVKaIqDvYtm1f5bRUAHA+m82mMpUTXoYAAOCaCCEojuPC+/FqtaLlcqm8jjRNK32nkTAHaCa7FeSvNSFEpWXPtbiKBEG5H8fT01NtJkZOwXI8Hmm73U5VRAC4UuUEJBGR67p4GQIAgKtjGAbt9/tCUBIEAd3d3VUS4ZzValV455Yf5QCAlyQJLRaLQssB0zQpjuOrfZe8+ATBZrOp9IO6pkEeLt3z8/Np9of5fF4ZpA3go0nT9PQjZ0PJ13vbtsnzvDOWEAAAoDvZkiA/pVqSJHRzc0PL5bKQKMg/D8tBzrU2jwaYgmw1IAfOlxzHoTAMr7qb+09ZlmU6Cyz/8iciIvL//NdRClR2d3dXGDzMsiwKw3CSbX90aZrS58+fT/+WrS8APjI5ngnHtm28DAEAwIeRJAnN5/NK6wHHccj3/cJ7YJ5MDmCqX4Cq5bh1xz4AACAASURBVHJJm82m8IHJsix6enq6+GtGJZa/6BYEu92uMrL4/f39mUrz8ZQHobnGPjIAuspTNxH9NsDpdrtFcgAAAD4M0zRpv9/TdrstBC5pmrKz9wghyHVdiuP44gMdgHOSyQHLsmi9XleusWv2u3MXoAl347rWvhyXqBwoIUEAP4LHx0e6vb0lot/mdUbdBwCAj8y2bbJtm9I0pc1mQ6ZpkmEYpy51cnDv/OxgAMB7fHykT58+kW3bH/Id8qK7GNzc3BSaRKEJ/HAOhwPd3NwUfveRMl8AAAAAAADwm6vuYhBFUaW/1EfM0JxLeQobIhxfAAAAAACAH9nFdjG4tAA2TdNTwkIIMerIlDrbStNUuylYFEXs+AN99ylf7nOdqz5lOBwOp+M55Pmdsu4AAAAAAAB0dXEJgiRJ6PX1tTBdhCSnJOM8PDwMOv2hnPLl9fWVkiRh5461LIvu7+/p+fm597bkXOxJkrBTDdq2XdhHObXGZrM5zXmrsp3NZlOZ41b+t7pjK3mexwbd8pyVR/N0XZd8328tV1s5TNNsXU8URfTy8kJRFBXK4Pt+YZofbrm3t7dK2Ym6z5ghz+fr6yvbEkauW2W/AAAAAAAAJpNpcn/5OXN/+Vl3sUa+72eGYWRCiIyIOv1st9tBynI8HjPXdbXKYppmdjweO20vDMPMMAzlbQkhTsdL/s6yrMb9MU2z9/ElInYfPc9rXK/jONrHQ3cdbeeLqxvyPDftr+u6WmU/Ho+Z53la57NP3QEAAAAAAFClEstfxBgE7+/vp+bdXQ3RpD2KIrq7u6MgCApTV/i+T3Ec0/F4pDAMKzMpJElSO696nTRNabFY0Gw2K3xhllNlyO3JqWlks3TZciC/TNO+R1F0agHR9/jmuzLI8nOtEfK4L/NNuJkr6qa2lGXIny9OubtKkiSn89xEZ0rNKIpoNpvRarUqdHEo153yIJBd6g4AAAAAAMAYLmIWgzRNCwHe4XCg2WxW+BvXdenp6al2HX37dQdBUAl2fd8nx3HYPv7cDAv7/V5pPAAZ2Oa7UQghaL1e184ikKYpff78mf1vbbMPlJu4LxYLiqKosO04jlvLnU9S5MvvOM7p3CwWi0qQzyVV6szn80r3kv1+Xzm/TWWYz+e1s18kSUKz2ew01oBt2/Tlyxd6fX2tHCduuxyu7nieR67rKtUdIqLj8TjqtELz+bxwzs8pjmOMwwAAAAAAMDGlWH6MZgl9bbfbSlPs9Xo92vZ8368042/bHtc8PY7j1m0dj8fMtu3K9sIwbF3WcRy2mfp+v1fe1yzLKs3xm7oocGT5uePkeV6v7h/l5vlCiEHKkGVZFsfxad8tyyoct+PxWGn6r6Jcd1TqKlc+lfPfR7nOnfNH5ToBAAAAAIBhXU0XgzKumbnqF2hdQRBUmnh7ntc64OHt7W3ld9xgdGWr1aryhXy9Xivt35cvXyq/0519gBsEUbd7hmx6L1tY5HFfwVW/jHODQdYdF50ymKZ5anGQpik5jlPotiGXya9H5ZjKAR/zuPKUcce7T/cPAAAAAACAIVzcLAZERF+/fi38e6yp4Q6HQyXAs227cdR7iQvo2gLh3W5X6ffuum5j94C29esmTrhm5jp97Yl+K7PqOVH9Oy7BwiViZBnkTABtLMs6dX2Q4wJwx/Lx8fGUhGlb7+FwoOVyWagHferO2G5vb5USWAAAAAAA8OO6uASBnF4wb4gBCDnyi7IkxwFQUU5iELUHwuVkhBCCPM9T2l4d3eD+/f298rsux7duX8vr10nucC1HmspW99/KZZBJGSEEbbfb2kSOZVnKCZdyckDnXHKB+lh1XHp+fu49HScAAAAAAHxsF9fFgBttf4zgabfbVRIRT09PyoMMlrsJtH1R3+12lQBYdXsSl5TQPTblMuh2UeiyflXc/nXpWsIlGoi+d+UYYl93u13l/D89PSnta5qm9Pr6Wvjd0OcAAAAAAACgi4trQTBEE3gV5anvhBBKzcOJql+PiahxhoW+25PK2zQMQ3v8AdU+/l1w61dNENS1HNEd2T9NU/YLvU5XjjbcuWwbd0DKT4MotdUdGNZPP/107iIAAAAAABRkepMLjubiWhAM1QS+Cdd6wLbt1mBUDnS32WwKv5f94eskSVLZnmVZ2sFvn6/z3PJEwyZf+iR3uJYjXZIXXBmG6Moh1Z3LtkSNrDvcGBSqyQUAAAAAAIAxXVwLgnIQq/uVXEW5iTfR9wHq6kRRRG9vb7TZbCpBrOu6rcFnuTl62/Y43Nf5ugH86oydfOHGH1AN8odqOcIlQXS7cjTRPZd96w4AAAAAAMBULipB0KeJuu52ODL4OxwO9O3bN0qShJ0WUJbL8zylZutcQkJ3v7gAWvcL+9jJF66Fg2pgPlTyghvHYKiuBUT8uSTSqzuGYShNpQkAAAAAADCli0sQlOl+JVfZBtdHfTabtS4rhCDTNOnx8VGpS0Ld9roMStfn6zzR9ybufbsoNOmb3Blq8ERuHIOh9rOu7szn89ZlZd15eHggx3EGa9EA+i6lfxcAAAAAwKW5qATBFOMPcF/iOXJ6PsMw6Pb2lizL6jRo3hBT2g0x9ePYyZc+4xsM1XKE+2I/9CCMKoaqO0NSLfsUxp7SEQAAAAAAurmoBAEXvA8dTHBN0Nfr9SmQlEHcUMEclyDQXfdut+s99SMXIA55bN/e3gr/1mnhwPXr7zL+wNgzYExdd4a0Wq3Y43wOcRwjSQAAAAAAcIEuJkHATU83xvzwXJ9wlVHou+KCSt0v9+Vp9Yj0A1+udcaYX9dVv5inacruX5eyjd0Cpa41yFh1BwAAAAAAYEoXM83h2F+4JS7IGxOXkND5whwEwSDHps8Agirr7tpFIAiCyjGSTfS7lCNv6EEY+55LAAAAAACAS3YxLQj69GHv61KDvDRNabVaVX6v+9V67Nkhup67w+HAth7oOv7AFDNglF1q3Sl7fHy8mJYO13LMAAAAAAB+NBeTIJhigEKi6wpOFotF7RSLOrgAfsjj0GUgxjRNB9s/omlmwLhmtm0POt0jAAAAAAB8PBfbxUBOCzc0bp1ckNomCALlqRHLVLo5BEFAu92OTNOsBHa6LSu4/WsLntM0pc1mo7R+bpyFNkEQUBRF7DSEXVqOTJFg4tbXpcuKat0BAAAAAACY0kUkCKZsHv7p06fK71SnPiT6Hjgvl0taLpcURRHN5/PGv+cSBG0JiSiKaLVakRCCfN9nkyfcOoMgqC2zThnk1/3FYqGUJNCdqSEIgtP+rdfryvJ1SZXn5+fadXLncMhBGImIvnz5orTdOrp1BwAAAAAAYEoXkSCYYnpDyXXdyu+4fvCcJElosVicAnEhBD0+PjYuw30Nb9qeDBzTNCXP88gwjNYAOk1Tms/ntFwulYPOuq/+Mjkgp8Tr0jqAiG/yT1RNDsht5pX373A40Gw2o9VqxSZB6mbAGLo7ieM4ld+9vr4qLdul7gAAAAAAAEzpIhIEXBA61gCFXNeFJElouVzWLiO//M5ms1PgLAPctn7d3FfsNE0rX8NlCwCZHHBdl01myPLm//9sNqMoimqDTi7ZstvtKkF8FEWFfXRdl3zfb9w/Iv6LfzkJkv96nqYp+b5Ptm2zLRm4/TscDrWzG3DJiKFbDxB938/y+ZaBf50+dQcAAAAAAGBKP2VZlukssPzLn4iIyP/zXwcrxM3NTeUL8H6/H23U9cPhQDc3N+x/cxzn1JT8119/pSiK6HA4FAJZ0zRpu90ql6+uqb7sfy+EoCiKToFuPjBP05Q+f/5cWE4IQU9PT/Trr7/SZrOhNE0bg05uHeX9fX9/pyRJTvvpui55nqf0FT4IAjbBYpomPTw80Ldv307HkYhovV6fvsZzZTMMgx4fH+nbt2+02+1a94/bfn4bQxqi7qzX60lmWAAAgMsin2cAAADnoBLLnz1BUBcg7vf7QdZfR34t1yGEIMdxlANnKU1Turu7UxrQjvtqzyVQyuVq+yKtOp6AEII8z6ttvcBR3T85pkI5cG/bv7aEzHw+P32dl8ZMMHWpO0TfEwi+7+PlEADgB5KmKSVJQq+vr7Tb7SiO49GeT2maUhRFlaQ/0fdnsBCCbm9vG8f0Abhk8v3r/v6eXNfFOxWAJqVYPtPk/vJz5v7ys+5itbbbbUZEhR/btgdbf5MwDDPDMCrbL/8IITLLsrI4jjtva7/fN27LNM1su93WlrNuOcuysv1+37r94/GYWZbVuJ999jGO40wI0Wndbft3PB4bt10+rkKITvugI47jyeoOAABcn+PxmPm+n5mmWXgu+L4/yrZc1218Dk/5jAQYQxzHlfrsuq7SezAAfKcSy/+uPc8wrnPOX29ZFu33e9rtdpVsu2EYZBgG3d7ekmVZvbP9slVEEAT0/v5+amZoGAbd39+TZVm1WVDLsiiOY3p5eTkdL8uy6PHxUbmpuhCCwjCs7Ksck0FnXRzTNOl4PFIQBPT29nbapuwu0LTu8v7plEkO5lje17GZpjlZ3QEAgOsSRREtl8vCO47sHjj0GDmbzeY0vg/R92eQbdv05csXStOUVqtV4e/HGKMHYAqmaZLv+/Ty8nJqeRoEAQVBQJ7noWUMwEDO3sWAax6+3W4xgBsAAABcFRmQy/GBiH7ruuc4zuAJ7PIYPNz4QUmS0N3d3enfCKTgI9jtdrRcLgtdVHXHCAP4EanE8mefxaA8xaEQAtltAAAAuCpymuAgCE7JAdM0KQzDUfpKl5MDlmWxYySZpln46IJBcuEjsG2b9vt9YcwsmQyrm2obANSctYtBeQAdImpsag8AAABwaWRyIN8i0rZtWq/Xo7zTHA6HSteBpgGUPc87TR+NjzDwkfi+T/f39zSfz4not4Gz4zhGMgygo7MmCMqtB4imG38AAAAAYAjl5MDYs9asVqvCBxbbthsDfzmtMrSTs05IclwhuFy2bVMYhoUZpmazGYVhiHoP0MFZuxi8v78X/i2nEQQAAAC4Bs/Pz4XkgBxIbazkQJIklWmLHx4eRtnWjygIAprNZqefl5eXcxcJFMguNlKapqdWBQCg52wJgsPhUBmcECO+AwAAwLWIoqgQQAohRutWIJXfnYjQbWBI5Y9XsmsGXL7n5+fCtXA4HJAkAOjgbAmCcvZbjvILAAAAcOnSNC1ML0hE9PT0NGqT5jRN6fX1tfA70zTxcWUgSZJUur+iifp12W63hX/vdjsMWgig6SwJgsPhUGmy5TgObsIAAABwFTabTSHwEEIURlQfQxRFhWndiNB6YEjl1hlIvlwfrrsyWhEA6Jk8QSBH+s1n3E3TROsBAAAAuAppmlY+dDw9PY0+C1O5+TsRmsAPhWudgeTLdfJ9v/Dvw+FQabkMAPUmSRDIuXoXiwXd3NwUmm/JOYIxtSEAAABcg91uV/iSP8Ugy2maskEOWl8OY7PZVFpnYGat68Rdj+VpQQGg3iTTHL68vFRuukTfM7Pb7RbJAQAA+GElSXJ6RqZpemphJ//XNE2ybZtdbrfb0bdv3yhNUxJC0JcvX8hxHKVm0XKw4K9fv562dXt7S5ZlDfrlVE4blyQJffv27dQsXwhBQgi6vb0lx3GU3gW46ZHrmKZZWWd5Crs6bftfbj0w9iDL3HgHRN+n4DscDuw7lizXGGWJouh0Pg+Hw+lc6tQ/FXJMALkdyTCM07by5zhNUwqCgIiIXNdVfr+Moqg2gGyqc0KI2gSNTOjIOi+EoIeHh06JJO4cc/W7rgzyGpdl4O4n5eWiKKL39/fTduX51Tmudeudou48PDwUEmryGKLLCICCTJP7y8+Z+8vPyn+/3+8zIsqIKBNCZKZpZq7rZnEc624aAADgw7Es6/Sc5H5c1y38fRzHmeu6mRCidhnHcbLj8chu73g8ti5vmma23+8779PxeMx8389M02zcTtN+cgzDUFoXEbHvGdvttnU5IURjGeI4riyz3W47H6s66/U6830/c103M01Teb9V90NXGIbK59OyrNr6p7Mtlf20bTvb7/dZGIaF+tF0TsIwzNbrdeZ5Xqdj21Zn1+t17XGyLEv7eNi2XVlP2/Xp+35tGdbrNbuMyr2hy31hyrqTV96e4ziDrBfgmqnE8qMnCAAAAKBeGIaZ53m1wa/neae/bQo8uCCf25bq8kII7WAgDEM2wJAfCNoCfNu2W9ffFtBZlpWFYVgbZDQFTnLZJp7nDRI0Ncl/XOn603YsVcVxXDnmQojMsqzMdd3ausvVvzYyQOXqom3bp+1xAXP5nDYFmdzyXX7KSYjj8Zg5jqO9XJvy8W1K/hyPx9b9465t7jz3PadT1h1O+VwMnTQDuEZIEAAAAFyJ4/HIvizLr335wFQGTJZltbYkkPKBsXxJtyyrMShQ/dpZ16rBNE02WN9ut7XbVQmemoIwlWDd9/3Kcq7rKn25LJ+joYKZvP1+nzmOU/jh6kb5b/I/dV+JdXDJlLrWKVxQqlOG/X7PBpO+77Pbi+O4tu63nRPXdQvHimvFY5pm4/F1HKdQ18qBuQyC686bKq7FSl3yR6cM+eusnDisO6465Z6y7tRZr9eV9aIFM/zokCAAAAC4ItzX0+12e/p9XcAUhmFjwCwD4rrlm4ItlYCbexE3TbMx4D4ej2ySQDUpUdc1QyXILycIVLo3ZBkfrKku21c5iBr7a2i5pYQQojFoOx6PyoEstyyXeGmre1y963JOuISRzlf+fGBePk7ccdHpZsDtY75VUX478npSKYPv+1mWFa99y7JOAfR+v6+cE9Wgfcq604RbL3fsAH4kSBAAAABcEa6PvHx5bwuY6pIE+aChKeipa9YuA4kmXBDT1lS/qcwqQX5bi4sm+eSCTjDJnZ8hvnSqKCdwuvRlV1UOmNvqTp8yHo/HSrLHMAylxBQXAOoG91nWrY9/nqwXdcepz7njWstw25DXYF0ZuHqbTw5wLWjK17XK1/cp646KMRIPANdMJZafZJpDAAAA6CZNUzIMg7bbbeMI3HUj6csR1LfbbePo5YZhsCOsv7+/a5fZtm2lEfTrylw3Kn+e3Key5XLZuHwQBKeR6U3TJM/zWrclcTMgTDEqepIklRkMxprecLfb0XK5LPzu6empdeT7rlarVWWmAN/3ex1X3WNTPq+maWpt37Zt8n2f1us1e5y42Se6lo2In53CcZzGMpSZpkmLxYLSNCXXdcnzvMrsBLZtn2YZaJqxQZq67qgol1lnJhSAH9Uk0xwCAABAd6oBk23bp2ne8p6enpQC9vLUYERqwbplWeT7fuHfquRUfeVtqgR5pmmS7/uFoCRNU1osFhSGYeXv89PZGYZBYRhqTdn29etXtvxj44Ka+/v7wbcjj12eZVnkuq7SsrqBcBRFlfrqum6vgFI3uM9PMyp1mR6y7hhxAb5qneOm5Wya3lC1DEIIWi6XlCTJKUnGrVMIQcfjUbmsU9YdVdxUp3LKRwDgoQUBAADABTNNUzlg4oJGIYTSS7rcVplKgsAwDHJd9/Sj8wWX+9tysNDEdd1KQMcFnofDgebz+Sk4WK/X2kHCuVoQcK04xmhBsFqtKse+Lngs65LEkMkaSQhBT09PCiX9jqsnfVsPEA2bfOmzftXWA23K13CaphRF0akVzhDB8tR1RxVXH7jjCgC/QYIAAADggukEPNzLuGEYygHAOb6qffr0qfc6uCBHfiEl+u3rpgxgfN/vFGiN9ZWzTTmgMQxj8G0fDodK6xHVriJpmtLLy0vhd0KIxsRWFEWVwNC2ba394pJXuoHl2MmXPusfKnlRFxD37cohTV13dHD3F5WkJ8CPDAkCAACAC6YTtNc1Ex5jW0MZYpt14xHMZjMiKvZzd12XHWuhDdcMeorjdTgcKgHNGK0HNptNZf9UvuanaUrL5bIS7Ld9PS4HhUREj4+PiqX9bogv7OVyD518Ka9fpwvEUMkLrmuMbdudrgPO1HVHB7cenRZKAD8iJAgAAAA+iKGC7WvE9XdO05Rubm5O3Q1s29YalLC8rrIpjhUXBN/e3g66De4rrmmajcG2bKY+m80qX49lV5O2ZXW2xykH0EIIreA+TdNRky/c+nX2se/giRLXhF+nK0eTqeuOLiQIAPRhkEIAAACYjAyaZODEfd3syvd9iqKoEFjJ7Zim2WncAelcQQWXIBi6BUEURZX9Kwd4+fP29vZGURRVgl8hBHme1xrgqWxPRfnY6K5j7ORLn7713OCJXZID3AwYlmV1Ot6cqeuOLu56//XXXwfdBsBHgwQBAAAAjEJ+KXx/fz8FBWMH2tvtlm5ubiq/H7LZ8pS4BMrQCYK3t7fK7zabzSn447pX5MnBBR3HUQpiX19fK7/T7VvPBdC6wf3YyRfuuKqun+sn//DwoF2GsWfAmLruAMD4kCAAAACAwaRpSrvdjl5eXhoTAjJYHzphYBhGZepDou+DFp5zPvYu6priDx1IcUEkN8WeJJvyW5ZF9/f3ZFmWVvJliMB8t9v1XgfXRWGoL+tE/cYf4JIoXcrGjWMw1NgDRNPXHV3oTgCgDwkCAAAAGEQURbRYLNh+16Zp0sPDwylAkEFBEASVYL6Pw+FQmT5P/n4+n7ODGao4R+sDrnn40K0HuH7yMoAj+m2/v3z5QqZpVs7fENvTHTuAaJjgnuvjP9R57jP+ABdgdzlGRMONY8CZuu4AwDSQIAAAAIDelsvlaTBAybIs8n1/lFH3OeXpDA3DKAQwu92Odrtdp5YE5xjsbKhp7ppwTdnleA1j4LanG7Dudjt29gHdVgxjDlDYp2k/10e/S9mGGsegztR1pwvuGh1ialWAjwyzGAAAAEAvQRBUkgOe51EYhpMlB4ioMGWa67oUhmHlbxaLRW3zZ11jJwiGmuauCbcPY/YFH2I2CG6KxL7TGxKN3zdf9dxx+9c1QVA25CCMU9edoVxDGQHOCQkCAAAA6Ixr0m/bNj0/P09ajiAITlOmyekMDcOodClI05Tm87n2+oUQlUB26hYEQohJEgRj6psg4FoPEOkH92MnX7qOPxAEwWDJi7H38Rr693ODfKKLA0AzJAgAAACgs81mUwkUHh8fJy1DFEWnJIVhGIXpDG3brnQpkOMR6CoHeG0jtPcxdhP4JpfaBFt2IeHoHhvu6/rYffPb1I2fQdTt3HOJhiEHYeRcWt3hrs8pWzUBXCMkCAAAAKCzvtPwcV85dchgP01TEkIUkgPSer2uBGhyPAIdXHDF9cMewthT8ElDfk2VLTjGIseXKB8HwzB6B/cqy6smg7qMs5CmKS2XS3b/ugwsyCUphhyEkeg66s41tHIAuDRIEAAAAFywS3/B5YIh1cAhiiI2SFfd5/KghJ7nsUG8TByUcTMuNOG+jnJfaYfAJU6GHqCQiE86cEmfJjK4XSwWNJvNGv+WC3RVjmEQBLTb7U6zYbStk6g5eaOb2EnTlGazmVIgyyV32r6sr1ar2v2ru56a9mGK1gNT150uuCQJxiAAaIYEAQAAwIXomwzgltdd5xAJCZWAL03T2ubUqvKDEjqOQ67r1v6tZVmV/y6DPlVcQDRWAoc7hmO1ICgHTDpJD5mkkYNUJknSOAgkF5xxX7vz5FSYMtHz7du31nUmSUJ3d3fsWBi614ncxyRJtJNKUlPgLAf5lPtX/lvd/SPikwdDJ5imrju6ztlNB+CaIUEAAABwIfoG+Nzf6gQz3N+29bPnvkpyo7CX17lYLCiKos5Bd35QQiEEeZ7XuozneZWvsTrjEXD7qvvFVEVdH/axvnyWx2ho6uuf/5soiuju7u7UCkQGuE1BGBdUEtU3MQ+C4JRIkusuH5tyfUmS5NTt5OXlpfLf66as5IJTuS65j3Lwyybc+rnAWX49zyc/TNOslJfbv9lsVrt/RNPMgEE0bd3RNUWSBOBDyjS5v/ycub/8rLsYAAAAtLBtOyOiwo8QQnl5z/MqyxNRtt/vlZbfbrfs8tvttnaZOI7ZZUzTzMIwrPyt53mZECIjosy27ex4PLLLNvF9v/D3hmEo7V+WZZllWWx5XdfttLzO+VEVhmGlfLZtD74d6Xg8ns5J/seyrCwMw2y/32fH4zE7Ho9ZGIaZ53mZaZqVc6Zaz9brde05iOM42+/3WRiGhWPt+/5pee4cxHGcHY/HbL1en/ZF/p5TLr+sR9vtNjsej9l+vy/UVZ06wtVpIsocxzmVMwzDUxmEENl6va4tmxDidA5U988wjM7XiI6p644O13U73wsBPiqVWB4JAgAAgAvg+z77oi0DizZhGNYub1lW6/JxHFeCinxw0fRizSU2ygFOuWyu62bH4zHLsoxdJh8QSsfjkX3pJ6LaQClvv9/XHiPVIJwLblW2raOcANEJTrvikhKqP5Zlnc6lqrq6plIX6uqATp2tS1LU1V+uPjbhEhB16y4n4FT2rymo5pJ2YyaYpq47qsp1rC3xCPAjQIIAAADgwsVxrBxMeJ5XWX6/3ysvXxckmKbZGDjnl+de5o/HY+2XeS4gyn8trfvaKn/k3+a/nNb9NCVSbNtW2semr7J15R06eOcSLk2tOIaiG+gZhqEdOEtxHLeeDy54zrLvdb4t6FT5Uqxy3dSVoU1bGWXAytW1ulY5qkE1l2Di7h1DmrLuqOCO4djHAOAaqMTyvyMAAAA4G9l/WKXvbVN/d5Xlm/r2q87TLqcTzBNCUBiGFAQBvb6+sn25Lcuih4cHchynsnxT2eU+1/Vdz6sb4Ez26Vftw384HGrLJIQgx3EKfeY3mw35vq+0bhVTTXFYZlkW7fd7Wq1WtWMCCCHINE16fHwk27Y7T3VnmibFccxuSwhBT09P5Louu37DMCgMw8oAk7JcXB3jxHFMy+XyNEhen3VxZZT7V56po23dpmnSer2u9OWX11DTYJxEVDtV4pimrDsqysdcXrcA0O6nLMsynQWWf/kTERH5f/7rKAUCAACA65Yf8E0G9mMGA1OTI8jnrdfrQQIQbt0ymJ7a/38UzwAAA3tJREFU4XA4DfQmz99Y51IO4ieDyLGXKyvv69ABtSyn7mCTQ+3f1KasO2VpmtLd3V1hkELHcdipTgF+NCqxPFoQAAAAwKCEEIPPuX5JTNMk27YLXylfXl4GSRBMNb2hijFnTijrWl+Gqmdj7+u5929qU9adsiiKCskB2SIFANRgmkMAAAAATeUuBUPN4c51I3l4eOi9XoAfQZqmp2kxJcdxrqr1BcC5IUEAAAAAoMkwjEqLgfl83nu95RYE19a0HOCcNptNIVEnhCDP885YIoDrgwQBAAAAQAe+7xeaUR8OB3bAO1VJkhSaRhN9b2J+rqbaANckSZJK64H1ev2hxj8BmAISBAAAAAAdCCFou90WfrdcLtlxBFRwyz0+PnZaF8CPJE1TWiwWhZlaXNcl27bPWCqA64QEAQAAAEBHpmlSGIaF381ms05JgtfX18q6EeAANJPJgXzXAsdx0LUAoCMkCAAAAAB6sCyLTRKU52JvstvtKoMcIsABaCaTA/lrzbIs8n0fXQsAOkKCAAAAAKAnLkkwn89puVy2LpumaeXvHMdB6wGABlEU0c3NTSE54LoubbdbJAcAekCCAAAAAGAAlmVRHMeFWQeCIKDPnz/TZrM5/S5N09NPFEV0d3dXGJzQNM3KNIoA8F0URTSbzWg2m53GHBBCkO/7aDkAMAAkCAAAAAAGYpomxXFcmOFANoP+6aefaLPZ0G63o8+fP9Pnz59pNpsVkgOyJQKCHICiw+FAd3d3hTE+hBBk2zbFcUyu6565hAAfw09ZlmU6Cyz/8qexygIAAADwocT/1zeK/+9v9N//+X8QEdH//n/e0X/5T/9M/zn8fwt/97c3/4L+aP1r+uPsX9Pv//C7cxQV4OL9/f/xH+m///P/oN//4Xf0b//X/4Xu/rcv9Lc3/+LcxQK4Ov6f/1r73/AEAgAAABjJ3X/4Qnf/4Qv91//nv9F//af/Rv/m3/8r+v0ffkf/8m//Z/r9H/4nIiL6N//+XyHIAVBwv/h39Ps//I7+1viXSKQBjES7BQEAAAAAAAAAfDwYgwAAAAAAAAAAkCAAAAAAAAAAACQIAAAAAAAAAICQIAAAAAAAAAAAQoIAAAAAAAAAAAgJAgAAAAAAAAAgJAgAAAAAAAAAgJAgAAAAAAAAAABCggAAAAAAAAAACAkCAAAAAAAAACCi/w/MApjjZMf+TwAAAABJRU5ErkJggg==)"
   ]
  },
  {
   "cell_type": "code",
   "execution_count": 9,
   "metadata": {
    "id": "ctkaWfWSW0Sp"
   },
   "outputs": [],
   "source": [
    "scaler = StandardScaler()\n",
    "\n",
    "X_train = scaler.fit_transform(X_train)\n",
    "X_test = scaler.transform(X_test)"
   ]
  },
  {
   "cell_type": "markdown",
   "metadata": {
    "id": "mMx72o01dPG8"
   },
   "source": [
    "# Implement Knn classifer using sklearn.\n",
    "\n",
    "# Use number of neigbours as 3."
   ]
  },
  {
   "cell_type": "code",
   "execution_count": 10,
   "metadata": {
    "id": "V8d0rGOLOSyo"
   },
   "outputs": [
    {
     "data": {
      "text/html": [
       "<style>#sk-container-id-1 {color: black;}#sk-container-id-1 pre{padding: 0;}#sk-container-id-1 div.sk-toggleable {background-color: white;}#sk-container-id-1 label.sk-toggleable__label {cursor: pointer;display: block;width: 100%;margin-bottom: 0;padding: 0.3em;box-sizing: border-box;text-align: center;}#sk-container-id-1 label.sk-toggleable__label-arrow:before {content: \"▸\";float: left;margin-right: 0.25em;color: #696969;}#sk-container-id-1 label.sk-toggleable__label-arrow:hover:before {color: black;}#sk-container-id-1 div.sk-estimator:hover label.sk-toggleable__label-arrow:before {color: black;}#sk-container-id-1 div.sk-toggleable__content {max-height: 0;max-width: 0;overflow: hidden;text-align: left;background-color: #f0f8ff;}#sk-container-id-1 div.sk-toggleable__content pre {margin: 0.2em;color: black;border-radius: 0.25em;background-color: #f0f8ff;}#sk-container-id-1 input.sk-toggleable__control:checked~div.sk-toggleable__content {max-height: 200px;max-width: 100%;overflow: auto;}#sk-container-id-1 input.sk-toggleable__control:checked~label.sk-toggleable__label-arrow:before {content: \"▾\";}#sk-container-id-1 div.sk-estimator input.sk-toggleable__control:checked~label.sk-toggleable__label {background-color: #d4ebff;}#sk-container-id-1 div.sk-label input.sk-toggleable__control:checked~label.sk-toggleable__label {background-color: #d4ebff;}#sk-container-id-1 input.sk-hidden--visually {border: 0;clip: rect(1px 1px 1px 1px);clip: rect(1px, 1px, 1px, 1px);height: 1px;margin: -1px;overflow: hidden;padding: 0;position: absolute;width: 1px;}#sk-container-id-1 div.sk-estimator {font-family: monospace;background-color: #f0f8ff;border: 1px dotted black;border-radius: 0.25em;box-sizing: border-box;margin-bottom: 0.5em;}#sk-container-id-1 div.sk-estimator:hover {background-color: #d4ebff;}#sk-container-id-1 div.sk-parallel-item::after {content: \"\";width: 100%;border-bottom: 1px solid gray;flex-grow: 1;}#sk-container-id-1 div.sk-label:hover label.sk-toggleable__label {background-color: #d4ebff;}#sk-container-id-1 div.sk-serial::before {content: \"\";position: absolute;border-left: 1px solid gray;box-sizing: border-box;top: 0;bottom: 0;left: 50%;z-index: 0;}#sk-container-id-1 div.sk-serial {display: flex;flex-direction: column;align-items: center;background-color: white;padding-right: 0.2em;padding-left: 0.2em;position: relative;}#sk-container-id-1 div.sk-item {position: relative;z-index: 1;}#sk-container-id-1 div.sk-parallel {display: flex;align-items: stretch;justify-content: center;background-color: white;position: relative;}#sk-container-id-1 div.sk-item::before, #sk-container-id-1 div.sk-parallel-item::before {content: \"\";position: absolute;border-left: 1px solid gray;box-sizing: border-box;top: 0;bottom: 0;left: 50%;z-index: -1;}#sk-container-id-1 div.sk-parallel-item {display: flex;flex-direction: column;z-index: 1;position: relative;background-color: white;}#sk-container-id-1 div.sk-parallel-item:first-child::after {align-self: flex-end;width: 50%;}#sk-container-id-1 div.sk-parallel-item:last-child::after {align-self: flex-start;width: 50%;}#sk-container-id-1 div.sk-parallel-item:only-child::after {width: 0;}#sk-container-id-1 div.sk-dashed-wrapped {border: 1px dashed gray;margin: 0 0.4em 0.5em 0.4em;box-sizing: border-box;padding-bottom: 0.4em;background-color: white;}#sk-container-id-1 div.sk-label label {font-family: monospace;font-weight: bold;display: inline-block;line-height: 1.2em;}#sk-container-id-1 div.sk-label-container {text-align: center;}#sk-container-id-1 div.sk-container {/* jupyter's `normalize.less` sets `[hidden] { display: none; }` but bootstrap.min.css set `[hidden] { display: none !important; }` so we also need the `!important` here to be able to override the default hidden behavior on the sphinx rendered scikit-learn.org. See: https://github.com/scikit-learn/scikit-learn/issues/21755 */display: inline-block !important;position: relative;}#sk-container-id-1 div.sk-text-repr-fallback {display: none;}</style><div id=\"sk-container-id-1\" class=\"sk-top-container\"><div class=\"sk-text-repr-fallback\"><pre>KNeighborsClassifier(n_neighbors=3)</pre><b>In a Jupyter environment, please rerun this cell to show the HTML representation or trust the notebook. <br />On GitHub, the HTML representation is unable to render, please try loading this page with nbviewer.org.</b></div><div class=\"sk-container\" hidden><div class=\"sk-item\"><div class=\"sk-estimator sk-toggleable\"><input class=\"sk-toggleable__control sk-hidden--visually\" id=\"sk-estimator-id-1\" type=\"checkbox\" checked><label for=\"sk-estimator-id-1\" class=\"sk-toggleable__label sk-toggleable__label-arrow\">KNeighborsClassifier</label><div class=\"sk-toggleable__content\"><pre>KNeighborsClassifier(n_neighbors=3)</pre></div></div></div></div></div>"
      ],
      "text/plain": [
       "KNeighborsClassifier(n_neighbors=3)"
      ]
     },
     "execution_count": 10,
     "metadata": {},
     "output_type": "execute_result"
    }
   ],
   "source": [
    "knn = KNeighborsClassifier(n_neighbors = 3)\n",
    "knn.fit(X_train, y_train)"
   ]
  },
  {
   "cell_type": "markdown",
   "metadata": {
    "id": "HUUlKK0IdmDl"
   },
   "source": [
    "# Make predictions on the test sample X_test.\n",
    "\n",
    "# Print predicted values.\n",
    "\n",
    "# Print actual test values.\n",
    "\n",
    "# Are predicted and actual values are equal?"
   ]
  },
  {
   "cell_type": "code",
   "execution_count": 11,
   "metadata": {
    "id": "gdqSmGOuPiO6"
   },
   "outputs": [
    {
     "name": "stdout",
     "output_type": "stream",
     "text": [
      "['c_avellana' 'c_americana' 'c_americana' 'c_avellana' 'c_cornuta'\n",
      " 'c_avellana' 'c_cornuta' 'c_avellana' 'c_americana' 'c_americana'\n",
      " 'c_avellana' 'c_cornuta' 'c_cornuta' 'c_avellana' 'c_americana'\n",
      " 'c_americana' 'c_americana' 'c_avellana' 'c_americana' 'c_cornuta'\n",
      " 'c_cornuta' 'c_americana' 'c_cornuta' 'c_americana' 'c_cornuta'\n",
      " 'c_americana' 'c_cornuta' 'c_avellana' 'c_americana' 'c_americana'\n",
      " 'c_cornuta' 'c_avellana' 'c_americana' 'c_americana' 'c_avellana'\n",
      " 'c_americana' 'c_avellana' 'c_cornuta' 'c_americana' 'c_cornuta'\n",
      " 'c_americana' 'c_americana' 'c_avellana' 'c_americana' 'c_cornuta'\n",
      " 'c_avellana' 'c_avellana' 'c_cornuta' 'c_cornuta' 'c_cornuta'\n",
      " 'c_americana' 'c_cornuta' 'c_cornuta' 'c_americana' 'c_avellana'\n",
      " 'c_cornuta' 'c_avellana' 'c_americana' 'c_cornuta' 'c_americana'\n",
      " 'c_cornuta' 'c_americana' 'c_avellana' 'c_avellana' 'c_americana'\n",
      " 'c_americana' 'c_cornuta' 'c_americana' 'c_avellana' 'c_avellana'\n",
      " 'c_avellana' 'c_americana' 'c_avellana' 'c_avellana' 'c_avellana'\n",
      " 'c_cornuta' 'c_cornuta' 'c_avellana' 'c_cornuta' 'c_avellana'\n",
      " 'c_americana']\n",
      "['c_avellana' 'c_americana' 'c_americana' 'c_avellana' 'c_cornuta'\n",
      " 'c_avellana' 'c_cornuta' 'c_avellana' 'c_americana' 'c_americana'\n",
      " 'c_avellana' 'c_cornuta' 'c_cornuta' 'c_avellana' 'c_americana'\n",
      " 'c_americana' 'c_americana' 'c_avellana' 'c_americana' 'c_cornuta'\n",
      " 'c_cornuta' 'c_americana' 'c_cornuta' 'c_americana' 'c_cornuta'\n",
      " 'c_americana' 'c_cornuta' 'c_avellana' 'c_americana' 'c_cornuta'\n",
      " 'c_cornuta' 'c_avellana' 'c_americana' 'c_americana' 'c_avellana'\n",
      " 'c_americana' 'c_avellana' 'c_cornuta' 'c_americana' 'c_cornuta'\n",
      " 'c_americana' 'c_americana' 'c_avellana' 'c_avellana' 'c_cornuta'\n",
      " 'c_cornuta' 'c_avellana' 'c_cornuta' 'c_cornuta' 'c_cornuta'\n",
      " 'c_americana' 'c_cornuta' 'c_cornuta' 'c_americana' 'c_avellana'\n",
      " 'c_cornuta' 'c_avellana' 'c_avellana' 'c_cornuta' 'c_americana'\n",
      " 'c_cornuta' 'c_americana' 'c_avellana' 'c_avellana' 'c_americana'\n",
      " 'c_americana' 'c_cornuta' 'c_americana' 'c_avellana' 'c_avellana'\n",
      " 'c_avellana' 'c_americana' 'c_avellana' 'c_avellana' 'c_avellana'\n",
      " 'c_cornuta' 'c_cornuta' 'c_avellana' 'c_cornuta' 'c_avellana'\n",
      " 'c_americana']\n"
     ]
    }
   ],
   "source": [
    "y_pred = knn.predict(X_test)\n",
    "print (y_pred)\n",
    "print (y_test)"
   ]
  },
  {
   "cell_type": "markdown",
   "metadata": {
    "id": "fAl-WrRNeLm1"
   },
   "source": [
    "# Print accuracy for training and test set."
   ]
  },
  {
   "cell_type": "code",
   "execution_count": 12,
   "metadata": {
    "id": "O5jlDXwzOnyw"
   },
   "outputs": [
    {
     "name": "stdout",
     "output_type": "stream",
     "text": [
      "0.9833333333333333\n",
      "0.9506172839506173\n"
     ]
    }
   ],
   "source": [
    "print (knn.score(X_train, y_train))\n",
    "print (knn.score(X_test, y_test))"
   ]
  },
  {
   "cell_type": "markdown",
   "metadata": {
    "id": "OLZO0adieT_7"
   },
   "source": [
    "# Print Classification report - Precision, Recall, and F-score."
   ]
  },
  {
   "cell_type": "code",
   "execution_count": 13,
   "metadata": {
    "id": "2EMDwwlQO3jg"
   },
   "outputs": [
    {
     "name": "stdout",
     "output_type": "stream",
     "text": [
      "              precision    recall  f1-score   support\n",
      "\n",
      " c_americana       0.90      1.00      0.95        27\n",
      "  c_avellana       0.96      0.93      0.94        27\n",
      "   c_cornuta       1.00      0.93      0.96        27\n",
      "\n",
      "    accuracy                           0.95        81\n",
      "   macro avg       0.95      0.95      0.95        81\n",
      "weighted avg       0.95      0.95      0.95        81\n",
      "\n",
      "Validation Accuracy:  0.9506172839506173\n",
      "None\n"
     ]
    }
   ],
   "source": [
    "print (classification_report(y_test, y_pred))\n",
    "\n",
    "print (print(\"Validation Accuracy: \", accuracy_score(y_test, y_pred)))"
   ]
  },
  {
   "cell_type": "markdown",
   "metadata": {
    "id": "serjU1XlefUp"
   },
   "source": [
    "# Display Confusion Matrix"
   ]
  },
  {
   "cell_type": "code",
   "execution_count": 14,
   "metadata": {
    "id": "bfa62-tmPz3r"
   },
   "outputs": [
    {
     "data": {
      "image/png": "[encoded data removed]",
      "text/plain": [
       "<Figure size 640x480 with 2 Axes>"
      ]
     },
     "metadata": {},
     "output_type": "display_data"
    }
   ],
   "source": [
    "cm = confusion_matrix(y_test, y_pred)\n",
    "disp = ConfusionMatrixDisplay(confusion_matrix = cm, display_labels = knn.classes_)\n",
    "disp.plot()\n",
    "plt.show()"
   ]
  },
  {
   "cell_type": "markdown",
   "metadata": {
    "id": "sCGB0cMEfieB"
   },
   "source": [
    "# Till now, we implemented the KNN for number of neigbours 3.\n",
    "# Now, we will check the accuracy for number of neighbours 1- 10 - all values, and will plot accuracy."
   ]
  },
  {
   "cell_type": "code",
   "execution_count": 15,
   "metadata": {
    "id": "NCwX5VVYSc3o"
   },
   "outputs": [
    {
     "name": "stdout",
     "output_type": "stream",
     "text": [
      "[1, 2, 3, 4, 5, 6, 7, 8, 9, 10]\n"
     ]
    }
   ],
   "source": [
    "# Your code to create an empty list train_scores\n",
    "# Your code to create an empty list test_scores\n",
    "# Your code to create a list neighbours having values [1, 2, 3, 4, 5, 6, 7, 8, 9, 10]. You can create numpy array and use np.arange function.\n",
    "train_scores = []\n",
    "#print(train_scores)\n",
    "test_scores = []\n",
    "#print(test_scores)\n",
    "neighbors = [1, 2, 3, 4, 5, 6, 7, 8, 9, 10] \n",
    "#neighbors = np.arange(1, 11)\n",
    "print(neighbors)\n",
    "\n",
    "\n",
    "# for ##...... in #.......: # Your code to fill in the for loop.\n",
    "  # Create a knn classifier object for particular neigbour value.\n",
    "  # Fit the classifier on X_train, y_train\n",
    "  # Make predictions on train data.  Store the values in train_pred variable.\n",
    "  # Make predictions on test data.  Store the values in test_pred variable.\n",
    "  # Find accuracy for train data. Hint - use accuracy_score method in sklearn.\n",
    "  # Find accuracy for test data. Hint - use accuracy_score method in sklearn.\n",
    "  # Append training accuracy in list train_scores.\n",
    "  # Append test accuracy in list test-scores.\n",
    "# Creating an empty list named train_scores\n",
    "for neighbor in neighbors:\n",
    "    #print(neighbor)\n",
    "    knn_classifier = KNeighborsClassifier(n_neighbors= neighbors)\n",
    "    #print(knn_classifier)\n",
    "    train_pred = knn.predict(X_train)\n",
    "    #print(\"Predictions on the training data:\", train_pred)\n",
    "#k_neighbors = 6\n",
    "    knn = KNeighborsClassifier(n_neighbors= neighbor)\n",
    "    #X_train = np.array([[1, 2], [2, 3], [3, 4], [4, 5]])\n",
    "    #y_train = np.array([0, 1, 0, 1])\n",
    "    knn.fit(X_train, y_train)\n",
    "    #X_test = np.array([[5, 6], [6, 7]])\n",
    "    train_pred = knn.predict(X_train)\n",
    "    test_pred = knn.predict(X_test)\n",
    "    #print(\"Predictions on the test data:\", test_pred)\n",
    "    train_accuracy = accuracy_score(y_train, train_pred)\n",
    "    #print(\"Accuracy on the training data:\", train_accuracy)\n",
    "    test_accuracy = accuracy_score(y_test, test_pred)\n",
    "    #print(\"Accuracy on the test data:\", test_accuracy)\n",
    "    train_scores.append(train_accuracy)\n",
    "    test_scores.append(test_accuracy)\n",
    "\n",
    "\n",
    "\n"
   ]
  },
  {
   "cell_type": "markdown",
   "metadata": {
    "id": "iLF1qgPlgFBm"
   },
   "source": [
    "# Plot the accuracy for number of neigbours 1-10."
   ]
  },
  {
   "cell_type": "code",
   "execution_count": 17,
   "metadata": {},
   "outputs": [
    {
     "data": {
      "text/plain": [
       "[0.9506172839506173,\n",
       " 0.9382716049382716,\n",
       " 0.9506172839506173,\n",
       " 0.9382716049382716,\n",
       " 0.9506172839506173,\n",
       " 0.9382716049382716,\n",
       " 0.9506172839506173,\n",
       " 0.9382716049382716,\n",
       " 0.9382716049382716,\n",
       " 0.9382716049382716]"
      ]
     },
     "execution_count": 17,
     "metadata": {},
     "output_type": "execute_result"
    }
   ],
   "source": [
    "test_scores"
   ]
  },
  {
   "cell_type": "code",
   "execution_count": 18,
   "metadata": {
    "id": "Mkqadq4HTWIy"
   },
   "outputs": [
    {
     "data": {
      "image/png": "[encoded data removed]",
      "text/plain": [
       "<Figure size 640x480 with 1 Axes>"
      ]
     },
     "metadata": {},
     "output_type": "display_data"
    }
   ],
   "source": [
    "#\n",
    "# Your code to plot neigbours vs train scores. Proivide label name as the 'train accuracy'\n",
    "# Your code to plot neigbours vs test scores. Provide label bame as the 'test accuracy'.\n",
    "#\n",
    "plt.title('k-nn varying number of neigbors')\n",
    "plt.plot(neighbors, train_scores, label =\"Training Accuracy\")\n",
    "plt.plot(neighbors, test_scores, label = \"Test Accuracy\")\n",
    "plt.legend()\n",
    "plt.xlabel(\"Number of neigbours\")\n",
    "plt.ylabel('Accuracy')\n",
    "plt.show()"
   ]
  },
  {
   "cell_type": "markdown",
   "metadata": {
    "id": "we6djldKjiqC"
   },
   "source": [
    "# Let's implement other ML algorithm that we studied -  Logistic Regression and MLP.\n",
    "\n",
    "# We will do the same task using Logistic Regression and MLP.\n",
    "\n",
    "## Implement Logistic Regression and MLP for the same problem and compare accuracy of the three classifiers using Bar plot:\n",
    "\n",
    "\n",
    "https://scikit-learn.org/stable/modules/generated/sklearn.linear_model.LogisticRegression.html\n",
    "\n",
    "https://scikit-learn.org/stable/modules/generated/sklearn.neural_network.MLPClassifier.html\n"
   ]
  },
  {
   "cell_type": "code",
   "execution_count": 19,
   "metadata": {},
   "outputs": [],
   "source": [
    "# creat an empty list of train Scores models\n",
    "test_scores_models = []\n",
    "# add accuracy value for knn \n",
    "test_scores_models.append(test_scores[4])"
   ]
  },
  {
   "cell_type": "code",
   "execution_count": 20,
   "metadata": {
    "id": "fL1wZ1obQK45"
   },
   "outputs": [
    {
     "data": {
      "text/html": [
       "<style>#sk-container-id-2 {color: black;}#sk-container-id-2 pre{padding: 0;}#sk-container-id-2 div.sk-toggleable {background-color: white;}#sk-container-id-2 label.sk-toggleable__label {cursor: pointer;display: block;width: 100%;margin-bottom: 0;padding: 0.3em;box-sizing: border-box;text-align: center;}#sk-container-id-2 label.sk-toggleable__label-arrow:before {content: \"▸\";float: left;margin-right: 0.25em;color: #696969;}#sk-container-id-2 label.sk-toggleable__label-arrow:hover:before {color: black;}#sk-container-id-2 div.sk-estimator:hover label.sk-toggleable__label-arrow:before {color: black;}#sk-container-id-2 div.sk-toggleable__content {max-height: 0;max-width: 0;overflow: hidden;text-align: left;background-color: #f0f8ff;}#sk-container-id-2 div.sk-toggleable__content pre {margin: 0.2em;color: black;border-radius: 0.25em;background-color: #f0f8ff;}#sk-container-id-2 input.sk-toggleable__control:checked~div.sk-toggleable__content {max-height: 200px;max-width: 100%;overflow: auto;}#sk-container-id-2 input.sk-toggleable__control:checked~label.sk-toggleable__label-arrow:before {content: \"▾\";}#sk-container-id-2 div.sk-estimator input.sk-toggleable__control:checked~label.sk-toggleable__label {background-color: #d4ebff;}#sk-container-id-2 div.sk-label input.sk-toggleable__control:checked~label.sk-toggleable__label {background-color: #d4ebff;}#sk-container-id-2 input.sk-hidden--visually {border: 0;clip: rect(1px 1px 1px 1px);clip: rect(1px, 1px, 1px, 1px);height: 1px;margin: -1px;overflow: hidden;padding: 0;position: absolute;width: 1px;}#sk-container-id-2 div.sk-estimator {font-family: monospace;background-color: #f0f8ff;border: 1px dotted black;border-radius: 0.25em;box-sizing: border-box;margin-bottom: 0.5em;}#sk-container-id-2 div.sk-estimator:hover {background-color: #d4ebff;}#sk-container-id-2 div.sk-parallel-item::after {content: \"\";width: 100%;border-bottom: 1px solid gray;flex-grow: 1;}#sk-container-id-2 div.sk-label:hover label.sk-toggleable__label {background-color: #d4ebff;}#sk-container-id-2 div.sk-serial::before {content: \"\";position: absolute;border-left: 1px solid gray;box-sizing: border-box;top: 0;bottom: 0;left: 50%;z-index: 0;}#sk-container-id-2 div.sk-serial {display: flex;flex-direction: column;align-items: center;background-color: white;padding-right: 0.2em;padding-left: 0.2em;position: relative;}#sk-container-id-2 div.sk-item {position: relative;z-index: 1;}#sk-container-id-2 div.sk-parallel {display: flex;align-items: stretch;justify-content: center;background-color: white;position: relative;}#sk-container-id-2 div.sk-item::before, #sk-container-id-2 div.sk-parallel-item::before {content: \"\";position: absolute;border-left: 1px solid gray;box-sizing: border-box;top: 0;bottom: 0;left: 50%;z-index: -1;}#sk-container-id-2 div.sk-parallel-item {display: flex;flex-direction: column;z-index: 1;position: relative;background-color: white;}#sk-container-id-2 div.sk-parallel-item:first-child::after {align-self: flex-end;width: 50%;}#sk-container-id-2 div.sk-parallel-item:last-child::after {align-self: flex-start;width: 50%;}#sk-container-id-2 div.sk-parallel-item:only-child::after {width: 0;}#sk-container-id-2 div.sk-dashed-wrapped {border: 1px dashed gray;margin: 0 0.4em 0.5em 0.4em;box-sizing: border-box;padding-bottom: 0.4em;background-color: white;}#sk-container-id-2 div.sk-label label {font-family: monospace;font-weight: bold;display: inline-block;line-height: 1.2em;}#sk-container-id-2 div.sk-label-container {text-align: center;}#sk-container-id-2 div.sk-container {/* jupyter's `normalize.less` sets `[hidden] { display: none; }` but bootstrap.min.css set `[hidden] { display: none !important; }` so we also need the `!important` here to be able to override the default hidden behavior on the sphinx rendered scikit-learn.org. See: https://github.com/scikit-learn/scikit-learn/issues/21755 */display: inline-block !important;position: relative;}#sk-container-id-2 div.sk-text-repr-fallback {display: none;}</style><div id=\"sk-container-id-2\" class=\"sk-top-container\"><div class=\"sk-text-repr-fallback\"><pre>LogisticRegression(random_state=2)</pre><b>In a Jupyter environment, please rerun this cell to show the HTML representation or trust the notebook. <br />On GitHub, the HTML representation is unable to render, please try loading this page with nbviewer.org.</b></div><div class=\"sk-container\" hidden><div class=\"sk-item\"><div class=\"sk-estimator sk-toggleable\"><input class=\"sk-toggleable__control sk-hidden--visually\" id=\"sk-estimator-id-2\" type=\"checkbox\" checked><label for=\"sk-estimator-id-2\" class=\"sk-toggleable__label sk-toggleable__label-arrow\">LogisticRegression</label><div class=\"sk-toggleable__content\"><pre>LogisticRegression(random_state=2)</pre></div></div></div></div></div>"
      ],
      "text/plain": [
       "LogisticRegression(random_state=2)"
      ]
     },
     "execution_count": 20,
     "metadata": {},
     "output_type": "execute_result"
    }
   ],
   "source": [
    "#\n",
    "# Your code to implement Logistic regression and MLP based classifier.\n",
    "# You could split this code into multiple cells\n",
    "#\n",
    "logisticRegression = LogisticRegression(random_state = 2)\n",
    "logisticRegression.fit(X_train, y_train)"
   ]
  },
  {
   "cell_type": "code",
   "execution_count": 57,
   "metadata": {},
   "outputs": [
    {
     "name": "stdout",
     "output_type": "stream",
     "text": [
      "['c_avellana' 'c_americana' 'c_americana' 'c_avellana' 'c_cornuta'\n",
      " 'c_avellana' 'c_cornuta' 'c_avellana' 'c_americana' 'c_americana'\n",
      " 'c_avellana' 'c_cornuta' 'c_cornuta' 'c_avellana' 'c_americana'\n",
      " 'c_americana' 'c_americana' 'c_avellana' 'c_americana' 'c_cornuta'\n",
      " 'c_cornuta' 'c_americana' 'c_cornuta' 'c_americana' 'c_cornuta'\n",
      " 'c_americana' 'c_cornuta' 'c_avellana' 'c_americana' 'c_cornuta'\n",
      " 'c_cornuta' 'c_avellana' 'c_americana' 'c_americana' 'c_avellana'\n",
      " 'c_americana' 'c_avellana' 'c_cornuta' 'c_americana' 'c_cornuta'\n",
      " 'c_americana' 'c_americana' 'c_avellana' 'c_avellana' 'c_cornuta'\n",
      " 'c_cornuta' 'c_avellana' 'c_cornuta' 'c_cornuta' 'c_cornuta'\n",
      " 'c_americana' 'c_cornuta' 'c_cornuta' 'c_americana' 'c_avellana'\n",
      " 'c_cornuta' 'c_avellana' 'c_avellana' 'c_cornuta' 'c_americana'\n",
      " 'c_cornuta' 'c_americana' 'c_avellana' 'c_avellana' 'c_americana'\n",
      " 'c_americana' 'c_cornuta' 'c_americana' 'c_avellana' 'c_avellana'\n",
      " 'c_avellana' 'c_americana' 'c_avellana' 'c_avellana' 'c_avellana'\n",
      " 'c_cornuta' 'c_cornuta' 'c_avellana' 'c_cornuta' 'c_avellana'\n",
      " 'c_americana']\n"
     ]
    }
   ],
   "source": [
    "# make prediction on X_tet using Logistic Regressiom implemented above\n",
    "y_pred = logisticRegression.predict(X_test)\n",
    "print(y_pred)"
   ]
  },
  {
   "cell_type": "code",
   "execution_count": 21,
   "metadata": {},
   "outputs": [
    {
     "name": "stdout",
     "output_type": "stream",
     "text": [
      "0.9916666666666667\n",
      "0.9629629629629629\n"
     ]
    }
   ],
   "source": [
    "#calculate and print accuracy for train and test data\n",
    "print (logisticRegression.score(X_train, y_train)) \n",
    "print (logisticRegression.score(X_test, y_test)) "
   ]
  },
  {
   "cell_type": "code",
   "execution_count": 28,
   "metadata": {},
   "outputs": [],
   "source": [
    "test_scores_models.append(logisticRegression.score(X_test, y_test))"
   ]
  },
  {
   "cell_type": "code",
   "execution_count": 29,
   "metadata": {},
   "outputs": [
    {
     "name": "stdout",
     "output_type": "stream",
     "text": [
      "              precision    recall  f1-score   support\n",
      "\n",
      " c_americana       0.90      1.00      0.95        27\n",
      "  c_avellana       0.96      0.93      0.94        27\n",
      "   c_cornuta       1.00      0.93      0.96        27\n",
      "\n",
      "    accuracy                           0.95        81\n",
      "   macro avg       0.95      0.95      0.95        81\n",
      "weighted avg       0.95      0.95      0.95        81\n",
      "\n",
      "Validation Accuracy:  0.9506172839506173\n"
     ]
    }
   ],
   "source": [
    "# Print classification report for the Logistic regression\n",
    "print (classification_report(y_test, y_pred))\n",
    "\n",
    "print(\"Validation Accuracy: \",accuracy_score(y_test, y_pred))"
   ]
  },
  {
   "cell_type": "code",
   "execution_count": 30,
   "metadata": {},
   "outputs": [
    {
     "data": {
      "image/png": "[encoded data removed]",
      "text/plain": [
       "<Figure size 640x480 with 2 Axes>"
      ]
     },
     "metadata": {},
     "output_type": "display_data"
    }
   ],
   "source": [
    "# Plot confusion matrix for the Logistic Regression.\n",
    "\n",
    "cm = confusion_matrix(y_test, y_pred) \n",
    "disp = ConfusionMatrixDisplay(confusion_matrix=cm, display_labels=logisticRegression.classes_)\n",
    "disp.plot()\n",
    "plt.show()"
   ]
  },
  {
   "cell_type": "code",
   "execution_count": 31,
   "metadata": {},
   "outputs": [],
   "source": [
    "from sklearn.neural_network import MLPClassifier"
   ]
  },
  {
   "cell_type": "code",
   "execution_count": 32,
   "metadata": {},
   "outputs": [
    {
     "name": "stdout",
     "output_type": "stream",
     "text": [
      "Iteration 1, loss = 1.02496270\n",
      "Iteration 2, loss = 0.98838596\n",
      "Iteration 3, loss = 0.95316579\n",
      "Iteration 4, loss = 0.91924717\n",
      "Iteration 5, loss = 0.88664037\n",
      "Iteration 6, loss = 0.85534785\n",
      "Iteration 7, loss = 0.82533153\n",
      "Iteration 8, loss = 0.79661407\n",
      "Iteration 9, loss = 0.76913360\n",
      "Iteration 10, loss = 0.74288071\n",
      "Iteration 11, loss = 0.71775963\n",
      "Iteration 12, loss = 0.69373720\n",
      "Iteration 13, loss = 0.67082569\n",
      "Iteration 14, loss = 0.64897192\n",
      "Iteration 15, loss = 0.62812188\n",
      "Iteration 16, loss = 0.60822535\n",
      "Iteration 17, loss = 0.58920453\n",
      "Iteration 18, loss = 0.57103641\n",
      "Iteration 19, loss = 0.55368991\n",
      "Iteration 20, loss = 0.53710653\n",
      "Iteration 21, loss = 0.52126236\n",
      "Iteration 22, loss = 0.50611304\n",
      "Iteration 23, loss = 0.49163089\n",
      "Iteration 24, loss = 0.47777981\n",
      "Iteration 25, loss = 0.46453777\n",
      "Iteration 26, loss = 0.45187351\n",
      "Iteration 27, loss = 0.43975229\n",
      "Iteration 28, loss = 0.42813956\n",
      "Iteration 29, loss = 0.41701735\n",
      "Iteration 30, loss = 0.40636502\n",
      "Iteration 31, loss = 0.39614097\n",
      "Iteration 32, loss = 0.38633102\n",
      "Iteration 33, loss = 0.37691207\n",
      "Iteration 34, loss = 0.36785024\n",
      "Iteration 35, loss = 0.35913176\n",
      "Iteration 36, loss = 0.35074767\n",
      "Iteration 37, loss = 0.34265889\n",
      "Iteration 38, loss = 0.33486498\n",
      "Iteration 39, loss = 0.32735380\n",
      "Iteration 40, loss = 0.32010459\n",
      "Iteration 41, loss = 0.31311748\n",
      "Iteration 42, loss = 0.30638893\n",
      "Iteration 43, loss = 0.29989333\n",
      "Iteration 44, loss = 0.29362864\n",
      "Iteration 45, loss = 0.28758186\n",
      "Iteration 46, loss = 0.28174894\n",
      "Iteration 47, loss = 0.27611752\n",
      "Iteration 48, loss = 0.27066665\n",
      "Iteration 49, loss = 0.26539051\n",
      "Iteration 50, loss = 0.26028695\n",
      "Iteration 51, loss = 0.25534752\n",
      "Iteration 52, loss = 0.25056886\n",
      "Iteration 53, loss = 0.24594145\n",
      "Iteration 54, loss = 0.24146039\n",
      "Iteration 55, loss = 0.23712081\n",
      "Iteration 56, loss = 0.23292100\n",
      "Iteration 57, loss = 0.22886245\n",
      "Iteration 58, loss = 0.22492875\n",
      "Iteration 59, loss = 0.22110922\n",
      "Iteration 60, loss = 0.21739894\n",
      "Iteration 61, loss = 0.21379600\n",
      "Iteration 62, loss = 0.21028903\n",
      "Iteration 63, loss = 0.20688364\n",
      "Iteration 64, loss = 0.20357637\n",
      "Iteration 65, loss = 0.20035999\n",
      "Iteration 66, loss = 0.19723196\n",
      "Iteration 67, loss = 0.19419092\n",
      "Iteration 68, loss = 0.19122843\n",
      "Iteration 69, loss = 0.18836440\n",
      "Iteration 70, loss = 0.18558068\n",
      "Iteration 71, loss = 0.18286539\n",
      "Iteration 72, loss = 0.18022239\n",
      "Iteration 73, loss = 0.17764939\n",
      "Iteration 74, loss = 0.17514218\n",
      "Iteration 75, loss = 0.17269833\n",
      "Iteration 76, loss = 0.17031252\n",
      "Iteration 77, loss = 0.16799797\n",
      "Iteration 78, loss = 0.16573945\n",
      "Iteration 79, loss = 0.16353173\n",
      "Iteration 80, loss = 0.16137370\n",
      "Iteration 81, loss = 0.15926429\n",
      "Iteration 82, loss = 0.15720120\n",
      "Iteration 83, loss = 0.15518626\n",
      "Iteration 84, loss = 0.15321889\n",
      "Iteration 85, loss = 0.15128956\n",
      "Iteration 86, loss = 0.14940489\n",
      "Iteration 87, loss = 0.14756126\n",
      "Iteration 88, loss = 0.14575544\n",
      "Iteration 89, loss = 0.14398401\n",
      "Iteration 90, loss = 0.14224503\n",
      "Iteration 91, loss = 0.14053990\n",
      "Iteration 92, loss = 0.13887325\n",
      "Iteration 93, loss = 0.13723149\n",
      "Iteration 94, loss = 0.13561633\n",
      "Iteration 95, loss = 0.13402700\n",
      "Iteration 96, loss = 0.13246420\n",
      "Iteration 97, loss = 0.13092822\n",
      "Iteration 98, loss = 0.12942063\n",
      "Iteration 99, loss = 0.12793625\n",
      "Iteration 100, loss = 0.12648276\n",
      "Iteration 101, loss = 0.12505985\n",
      "Iteration 102, loss = 0.12366940\n",
      "Iteration 103, loss = 0.12231012\n",
      "Iteration 104, loss = 0.12097017\n",
      "Iteration 105, loss = 0.11965003\n",
      "Iteration 106, loss = 0.11834553\n",
      "Iteration 107, loss = 0.11706030\n",
      "Iteration 108, loss = 0.11579225\n",
      "Iteration 109, loss = 0.11454446\n",
      "Iteration 110, loss = 0.11331916\n",
      "Iteration 111, loss = 0.11212387\n",
      "Iteration 112, loss = 0.11094661\n",
      "Iteration 113, loss = 0.10978203\n",
      "Iteration 114, loss = 0.10863886\n",
      "Iteration 115, loss = 0.10751081\n",
      "Iteration 116, loss = 0.10639601\n",
      "Iteration 117, loss = 0.10529333\n",
      "Iteration 118, loss = 0.10420095\n",
      "Iteration 119, loss = 0.10312411\n",
      "Iteration 120, loss = 0.10206138\n",
      "Iteration 121, loss = 0.10101810\n",
      "Iteration 122, loss = 0.09998523\n",
      "Iteration 123, loss = 0.09896313\n",
      "Iteration 124, loss = 0.09795106\n",
      "Iteration 125, loss = 0.09695160\n",
      "Iteration 126, loss = 0.09596566\n",
      "Iteration 127, loss = 0.09499161\n",
      "Iteration 128, loss = 0.09402759\n",
      "Iteration 129, loss = 0.09307645\n",
      "Iteration 130, loss = 0.09214149\n",
      "Iteration 131, loss = 0.09121967\n",
      "Iteration 132, loss = 0.09031036\n",
      "Iteration 133, loss = 0.08941047\n",
      "Iteration 134, loss = 0.08851917\n",
      "Iteration 135, loss = 0.08764181\n",
      "Iteration 136, loss = 0.08677796\n",
      "Iteration 137, loss = 0.08592606\n",
      "Iteration 138, loss = 0.08508264\n",
      "Iteration 139, loss = 0.08424933\n",
      "Iteration 140, loss = 0.08342565\n",
      "Iteration 141, loss = 0.08261361\n",
      "Iteration 142, loss = 0.08181240\n",
      "Iteration 143, loss = 0.08102004\n",
      "Iteration 144, loss = 0.08023885\n",
      "Iteration 145, loss = 0.07946698\n",
      "Iteration 146, loss = 0.07870558\n",
      "Iteration 147, loss = 0.07795259\n",
      "Iteration 148, loss = 0.07721112\n",
      "Iteration 149, loss = 0.07648005\n",
      "Iteration 150, loss = 0.07575590\n",
      "Iteration 151, loss = 0.07503824\n",
      "Iteration 152, loss = 0.07432829\n",
      "Iteration 153, loss = 0.07362737\n",
      "Iteration 154, loss = 0.07293764\n",
      "Iteration 155, loss = 0.07225806\n",
      "Iteration 156, loss = 0.07158611\n",
      "Iteration 157, loss = 0.07091929\n",
      "Iteration 158, loss = 0.07026397\n",
      "Iteration 159, loss = 0.06961651\n",
      "Iteration 160, loss = 0.06897676\n",
      "Iteration 161, loss = 0.06834170\n",
      "Iteration 162, loss = 0.06771502\n",
      "Iteration 163, loss = 0.06709412\n",
      "Iteration 164, loss = 0.06648059\n",
      "Iteration 165, loss = 0.06587889\n",
      "Iteration 166, loss = 0.06528657\n",
      "Iteration 167, loss = 0.06469904\n",
      "Iteration 168, loss = 0.06411674\n",
      "Iteration 169, loss = 0.06354320\n",
      "Iteration 170, loss = 0.06297485\n",
      "Iteration 171, loss = 0.06241039\n",
      "Iteration 172, loss = 0.06185413\n",
      "Iteration 173, loss = 0.06130243\n",
      "Iteration 174, loss = 0.06075843\n",
      "Iteration 175, loss = 0.06021841\n",
      "Iteration 176, loss = 0.05968342\n",
      "Iteration 177, loss = 0.05915428\n",
      "Iteration 178, loss = 0.05863183\n",
      "Iteration 179, loss = 0.05811572\n",
      "Iteration 180, loss = 0.05760891\n",
      "Iteration 181, loss = 0.05710781\n",
      "Iteration 182, loss = 0.05661016\n",
      "Iteration 183, loss = 0.05611810\n",
      "Iteration 184, loss = 0.05563524\n",
      "Iteration 185, loss = 0.05515946\n",
      "Iteration 186, loss = 0.05468751\n",
      "Iteration 187, loss = 0.05421875\n",
      "Iteration 188, loss = 0.05375560\n",
      "Iteration 189, loss = 0.05329790\n",
      "Iteration 190, loss = 0.05284594\n",
      "Iteration 191, loss = 0.05239922\n",
      "Iteration 192, loss = 0.05195850\n",
      "Iteration 193, loss = 0.05152035\n",
      "Iteration 194, loss = 0.05108679\n",
      "Iteration 195, loss = 0.05065919\n",
      "Iteration 196, loss = 0.05024384\n",
      "Iteration 197, loss = 0.04983344\n",
      "Iteration 198, loss = 0.04942672\n",
      "Iteration 199, loss = 0.04902360\n",
      "Iteration 200, loss = 0.04862362\n",
      "Iteration 201, loss = 0.04822835\n",
      "Iteration 202, loss = 0.04783686\n",
      "Iteration 203, loss = 0.04744732\n",
      "Iteration 204, loss = 0.04706166\n",
      "Iteration 205, loss = 0.04668224\n",
      "Iteration 206, loss = 0.04630546\n",
      "Iteration 207, loss = 0.04593188\n",
      "Iteration 208, loss = 0.04556185\n",
      "Iteration 209, loss = 0.04519496\n",
      "Iteration 210, loss = 0.04483201\n",
      "Iteration 211, loss = 0.04447362\n",
      "Iteration 212, loss = 0.04411974\n",
      "Iteration 213, loss = 0.04376871\n",
      "Iteration 214, loss = 0.04342456\n",
      "Iteration 215, loss = 0.04308320\n",
      "Iteration 216, loss = 0.04274334\n",
      "Iteration 217, loss = 0.04240614\n",
      "Iteration 218, loss = 0.04207303\n",
      "Iteration 219, loss = 0.04174235\n",
      "Iteration 220, loss = 0.04141444\n",
      "Iteration 221, loss = 0.04108932\n",
      "Iteration 222, loss = 0.04076878\n",
      "Iteration 223, loss = 0.04045235\n",
      "Iteration 224, loss = 0.04013854\n",
      "Iteration 225, loss = 0.03982905\n",
      "Iteration 226, loss = 0.03952365\n",
      "Iteration 227, loss = 0.03922195\n",
      "Iteration 228, loss = 0.03892519\n",
      "Iteration 229, loss = 0.03862954\n",
      "Iteration 230, loss = 0.03833495\n",
      "Iteration 231, loss = 0.03804506\n",
      "Iteration 232, loss = 0.03775967\n",
      "Iteration 233, loss = 0.03747573\n",
      "Iteration 234, loss = 0.03719335\n",
      "Iteration 235, loss = 0.03691338\n",
      "Iteration 236, loss = 0.03663800\n",
      "Iteration 237, loss = 0.03636672\n",
      "Iteration 238, loss = 0.03609777\n",
      "Iteration 239, loss = 0.03583008\n",
      "Iteration 240, loss = 0.03556588\n",
      "Iteration 241, loss = 0.03530515\n",
      "Iteration 242, loss = 0.03504647\n",
      "Iteration 243, loss = 0.03479078\n",
      "Iteration 244, loss = 0.03453786\n",
      "Iteration 245, loss = 0.03428734\n",
      "Iteration 246, loss = 0.03404108\n",
      "Iteration 247, loss = 0.03379602\n",
      "Iteration 248, loss = 0.03355523\n",
      "Iteration 249, loss = 0.03331698\n",
      "Iteration 250, loss = 0.03307933\n",
      "Iteration 251, loss = 0.03284434\n",
      "Iteration 252, loss = 0.03261291\n",
      "Iteration 253, loss = 0.03238360\n",
      "Iteration 254, loss = 0.03215691\n",
      "Iteration 255, loss = 0.03193147\n",
      "Iteration 256, loss = 0.03170827\n",
      "Iteration 257, loss = 0.03148832\n",
      "Iteration 258, loss = 0.03127016\n",
      "Iteration 259, loss = 0.03105252\n",
      "Iteration 260, loss = 0.03083728\n",
      "Iteration 261, loss = 0.03062468\n",
      "Iteration 262, loss = 0.03041372\n",
      "Iteration 263, loss = 0.03020434\n",
      "Iteration 264, loss = 0.02999733\n",
      "Iteration 265, loss = 0.02979341\n",
      "Iteration 266, loss = 0.02959216\n",
      "Iteration 267, loss = 0.02939295\n",
      "Iteration 268, loss = 0.02919534\n",
      "Iteration 269, loss = 0.02899877\n",
      "Iteration 270, loss = 0.02880475\n",
      "Iteration 271, loss = 0.02861235\n",
      "Iteration 272, loss = 0.02842174\n",
      "Iteration 273, loss = 0.02823361\n",
      "Iteration 274, loss = 0.02804618\n",
      "Iteration 275, loss = 0.02786027\n",
      "Iteration 276, loss = 0.02767608\n",
      "Iteration 277, loss = 0.02749359\n",
      "Iteration 278, loss = 0.02731256\n",
      "Iteration 279, loss = 0.02713401\n",
      "Iteration 280, loss = 0.02695688\n",
      "Iteration 281, loss = 0.02678093\n",
      "Iteration 282, loss = 0.02660673\n",
      "Iteration 283, loss = 0.02643416\n",
      "Iteration 284, loss = 0.02626341\n",
      "Iteration 285, loss = 0.02609483\n",
      "Iteration 286, loss = 0.02592719\n",
      "Iteration 287, loss = 0.02576013\n",
      "Iteration 288, loss = 0.02559524\n",
      "Iteration 289, loss = 0.02543132\n",
      "Iteration 290, loss = 0.02526924\n",
      "Iteration 291, loss = 0.02510808\n",
      "Iteration 292, loss = 0.02494926\n",
      "Iteration 293, loss = 0.02479183\n",
      "Iteration 294, loss = 0.02463574\n",
      "Iteration 295, loss = 0.02448029\n",
      "Iteration 296, loss = 0.02432606\n",
      "Iteration 297, loss = 0.02417325\n",
      "Iteration 298, loss = 0.02402112\n",
      "Iteration 299, loss = 0.02386907\n",
      "Iteration 300, loss = 0.02371995\n"
     ]
    },
    {
     "name": "stderr",
     "output_type": "stream",
     "text": [
      "C:\\Users\\odhes\\anaconda3\\Lib\\site-packages\\sklearn\\neural_network\\_multilayer_perceptron.py:691: ConvergenceWarning: Stochastic Optimizer: Maximum iterations (300) reached and the optimization hasn't converged yet.\n",
      "  warnings.warn(\n"
     ]
    },
    {
     "data": {
      "text/html": [
       "<style>#sk-container-id-3 {color: black;}#sk-container-id-3 pre{padding: 0;}#sk-container-id-3 div.sk-toggleable {background-color: white;}#sk-container-id-3 label.sk-toggleable__label {cursor: pointer;display: block;width: 100%;margin-bottom: 0;padding: 0.3em;box-sizing: border-box;text-align: center;}#sk-container-id-3 label.sk-toggleable__label-arrow:before {content: \"▸\";float: left;margin-right: 0.25em;color: #696969;}#sk-container-id-3 label.sk-toggleable__label-arrow:hover:before {color: black;}#sk-container-id-3 div.sk-estimator:hover label.sk-toggleable__label-arrow:before {color: black;}#sk-container-id-3 div.sk-toggleable__content {max-height: 0;max-width: 0;overflow: hidden;text-align: left;background-color: #f0f8ff;}#sk-container-id-3 div.sk-toggleable__content pre {margin: 0.2em;color: black;border-radius: 0.25em;background-color: #f0f8ff;}#sk-container-id-3 input.sk-toggleable__control:checked~div.sk-toggleable__content {max-height: 200px;max-width: 100%;overflow: auto;}#sk-container-id-3 input.sk-toggleable__control:checked~label.sk-toggleable__label-arrow:before {content: \"▾\";}#sk-container-id-3 div.sk-estimator input.sk-toggleable__control:checked~label.sk-toggleable__label {background-color: #d4ebff;}#sk-container-id-3 div.sk-label input.sk-toggleable__control:checked~label.sk-toggleable__label {background-color: #d4ebff;}#sk-container-id-3 input.sk-hidden--visually {border: 0;clip: rect(1px 1px 1px 1px);clip: rect(1px, 1px, 1px, 1px);height: 1px;margin: -1px;overflow: hidden;padding: 0;position: absolute;width: 1px;}#sk-container-id-3 div.sk-estimator {font-family: monospace;background-color: #f0f8ff;border: 1px dotted black;border-radius: 0.25em;box-sizing: border-box;margin-bottom: 0.5em;}#sk-container-id-3 div.sk-estimator:hover {background-color: #d4ebff;}#sk-container-id-3 div.sk-parallel-item::after {content: \"\";width: 100%;border-bottom: 1px solid gray;flex-grow: 1;}#sk-container-id-3 div.sk-label:hover label.sk-toggleable__label {background-color: #d4ebff;}#sk-container-id-3 div.sk-serial::before {content: \"\";position: absolute;border-left: 1px solid gray;box-sizing: border-box;top: 0;bottom: 0;left: 50%;z-index: 0;}#sk-container-id-3 div.sk-serial {display: flex;flex-direction: column;align-items: center;background-color: white;padding-right: 0.2em;padding-left: 0.2em;position: relative;}#sk-container-id-3 div.sk-item {position: relative;z-index: 1;}#sk-container-id-3 div.sk-parallel {display: flex;align-items: stretch;justify-content: center;background-color: white;position: relative;}#sk-container-id-3 div.sk-item::before, #sk-container-id-3 div.sk-parallel-item::before {content: \"\";position: absolute;border-left: 1px solid gray;box-sizing: border-box;top: 0;bottom: 0;left: 50%;z-index: -1;}#sk-container-id-3 div.sk-parallel-item {display: flex;flex-direction: column;z-index: 1;position: relative;background-color: white;}#sk-container-id-3 div.sk-parallel-item:first-child::after {align-self: flex-end;width: 50%;}#sk-container-id-3 div.sk-parallel-item:last-child::after {align-self: flex-start;width: 50%;}#sk-container-id-3 div.sk-parallel-item:only-child::after {width: 0;}#sk-container-id-3 div.sk-dashed-wrapped {border: 1px dashed gray;margin: 0 0.4em 0.5em 0.4em;box-sizing: border-box;padding-bottom: 0.4em;background-color: white;}#sk-container-id-3 div.sk-label label {font-family: monospace;font-weight: bold;display: inline-block;line-height: 1.2em;}#sk-container-id-3 div.sk-label-container {text-align: center;}#sk-container-id-3 div.sk-container {/* jupyter's `normalize.less` sets `[hidden] { display: none; }` but bootstrap.min.css set `[hidden] { display: none !important; }` so we also need the `!important` here to be able to override the default hidden behavior on the sphinx rendered scikit-learn.org. See: https://github.com/scikit-learn/scikit-learn/issues/21755 */display: inline-block !important;position: relative;}#sk-container-id-3 div.sk-text-repr-fallback {display: none;}</style><div id=\"sk-container-id-3\" class=\"sk-top-container\"><div class=\"sk-text-repr-fallback\"><pre>MLPClassifier(max_iter=300, random_state=1, verbose=True)</pre><b>In a Jupyter environment, please rerun this cell to show the HTML representation or trust the notebook. <br />On GitHub, the HTML representation is unable to render, please try loading this page with nbviewer.org.</b></div><div class=\"sk-container\" hidden><div class=\"sk-item\"><div class=\"sk-estimator sk-toggleable\"><input class=\"sk-toggleable__control sk-hidden--visually\" id=\"sk-estimator-id-3\" type=\"checkbox\" checked><label for=\"sk-estimator-id-3\" class=\"sk-toggleable__label sk-toggleable__label-arrow\">MLPClassifier</label><div class=\"sk-toggleable__content\"><pre>MLPClassifier(max_iter=300, random_state=1, verbose=True)</pre></div></div></div></div></div>"
      ],
      "text/plain": [
       "MLPClassifier(max_iter=300, random_state=1, verbose=True)"
      ]
     },
     "execution_count": 32,
     "metadata": {},
     "output_type": "execute_result"
    }
   ],
   "source": [
    "# Implement MLP classifer using sklearn\n",
    "\n",
    "MLP =  MLPClassifier(random_state=1, \n",
    "                     max_iter=300,         \n",
    "                     verbose=True)\n",
    "\n",
    "MLP.fit(X_train, y_train)"
   ]
  },
  {
   "cell_type": "code",
   "execution_count": 33,
   "metadata": {},
   "outputs": [
    {
     "name": "stdout",
     "output_type": "stream",
     "text": [
      "[[3.72254293e-04 9.99092281e-01 5.35464627e-04]\n",
      " [9.78668228e-01 2.09420174e-02 3.89754350e-04]\n",
      " [4.78502893e-01 5.20925710e-01 5.71397499e-04]\n",
      " [4.75412120e-06 9.98726338e-01 1.26890805e-03]\n",
      " [1.37963944e-03 5.80097731e-03 9.92819383e-01]]\n"
     ]
    }
   ],
   "source": [
    "# Make probability predictions on X_test using MLP classifer implemented above.\n",
    "\n",
    "y_pred_prob = MLP.predict_proba(X_test)\n",
    "\n",
    "print (y_pred_prob[:5])"
   ]
  },
  {
   "cell_type": "code",
   "execution_count": 34,
   "metadata": {},
   "outputs": [
    {
     "name": "stdout",
     "output_type": "stream",
     "text": [
      "['c_avellana' 'c_americana' 'c_avellana' 'c_avellana' 'c_cornuta'\n",
      " 'c_avellana' 'c_cornuta' 'c_avellana' 'c_americana' 'c_americana'\n",
      " 'c_americana' 'c_cornuta' 'c_cornuta' 'c_avellana' 'c_americana'\n",
      " 'c_americana' 'c_americana' 'c_avellana' 'c_americana' 'c_cornuta'\n",
      " 'c_cornuta' 'c_americana' 'c_cornuta' 'c_americana' 'c_cornuta'\n",
      " 'c_americana' 'c_cornuta' 'c_avellana' 'c_americana' 'c_cornuta'\n",
      " 'c_cornuta' 'c_avellana' 'c_americana' 'c_americana' 'c_avellana'\n",
      " 'c_americana' 'c_avellana' 'c_cornuta' 'c_americana' 'c_cornuta'\n",
      " 'c_americana' 'c_americana' 'c_avellana' 'c_americana' 'c_cornuta'\n",
      " 'c_avellana' 'c_avellana' 'c_cornuta' 'c_cornuta' 'c_cornuta'\n",
      " 'c_americana' 'c_cornuta' 'c_cornuta' 'c_americana' 'c_avellana'\n",
      " 'c_cornuta' 'c_avellana' 'c_americana' 'c_cornuta' 'c_americana'\n",
      " 'c_cornuta' 'c_americana' 'c_avellana' 'c_avellana' 'c_americana'\n",
      " 'c_americana' 'c_cornuta' 'c_americana' 'c_avellana' 'c_avellana'\n",
      " 'c_avellana' 'c_americana' 'c_avellana' 'c_avellana' 'c_avellana'\n",
      " 'c_cornuta' 'c_cornuta' 'c_avellana' 'c_cornuta' 'c_avellana'\n",
      " 'c_americana']\n"
     ]
    }
   ],
   "source": [
    "# Make predictions on X_test using MLP classifer.\n",
    "\n",
    "y_pred = MLP.predict(X_test)\n",
    "\n",
    "print (y_pred)"
   ]
  },
  {
   "cell_type": "code",
   "execution_count": 35,
   "metadata": {},
   "outputs": [
    {
     "name": "stdout",
     "output_type": "stream",
     "text": [
      "1.0\n",
      "0.9382716049382716\n"
     ]
    }
   ],
   "source": [
    "# Calculate and Print accuracy for train and test data\n",
    "\n",
    "print (MLP.score(X_train, y_train))\n",
    "print (MLP.score(X_test, y_test))"
   ]
  },
  {
   "cell_type": "code",
   "execution_count": 36,
   "metadata": {},
   "outputs": [],
   "source": [
    "# add accuracy value of MLP classifer\n",
    "\n",
    "test_scores_models.append(MLP.score(X_test, y_test))"
   ]
  },
  {
   "cell_type": "code",
   "execution_count": 37,
   "metadata": {},
   "outputs": [
    {
     "name": "stdout",
     "output_type": "stream",
     "text": [
      "              precision    recall  f1-score   support\n",
      "\n",
      " c_americana       0.90      0.96      0.93        27\n",
      "  c_avellana       0.92      0.89      0.91        27\n",
      "   c_cornuta       1.00      0.96      0.98        27\n",
      "\n",
      "    accuracy                           0.94        81\n",
      "   macro avg       0.94      0.94      0.94        81\n",
      "weighted avg       0.94      0.94      0.94        81\n",
      "\n",
      "Validation Accuracy:  0.9382716049382716\n"
     ]
    }
   ],
   "source": [
    "# Print classification report for the MLP classifer\n",
    "\n",
    "print (classification_report(y_test, y_pred))\n",
    "\n",
    "print(\"Validation Accuracy: \",accuracy_score(y_test, y_pred))"
   ]
  },
  {
   "cell_type": "code",
   "execution_count": 38,
   "metadata": {},
   "outputs": [
    {
     "data": {
      "image/png": "[encoded data removed]",
      "text/plain": [
       "<Figure size 640x480 with 2 Axes>"
      ]
     },
     "metadata": {},
     "output_type": "display_data"
    }
   ],
   "source": [
    "# Plot confusion matrix for the MLP classifer.\n",
    "\n",
    "cm = confusion_matrix(y_test, y_pred) \n",
    "disp = ConfusionMatrixDisplay(confusion_matrix=cm, display_labels=logisticRegression.classes_)\n",
    "disp.plot()\n",
    "plt.show()"
   ]
  },
  {
   "cell_type": "markdown",
   "metadata": {
    "id": "UXaPDEBHJkif"
   },
   "source": [
    "# **Important** -  Lab logbook requirement:\n",
    "# Put bar plot comparing the accracy of three models in you lablogbook."
   ]
  },
  {
   "cell_type": "code",
   "execution_count": 39,
   "metadata": {},
   "outputs": [
    {
     "data": {
      "text/plain": [
       "[0.9506172839506173,\n",
       " 0.9629629629629629,\n",
       " 0.9629629629629629,\n",
       " 0.9382716049382716]"
      ]
     },
     "execution_count": 39,
     "metadata": {},
     "output_type": "execute_result"
    }
   ],
   "source": [
    "# accuracies\n",
    "\n",
    "test_scores_models"
   ]
  },
  {
   "cell_type": "code",
   "execution_count": 62,
   "metadata": {},
   "outputs": [
    {
     "data": {
      "image/png": "[encoded data removed]",
      "text/plain": [
       "<Figure size 640x480 with 1 Axes>"
      ]
     },
     "metadata": {},
     "output_type": "display_data"
    }
   ],
   "source": [
    "# Generate a bar plot to compare the accuracies of three models\n",
    "import matplotlib.pyplot as plt\n",
    "\n",
    "models_name = ['knn', 'logisticRegression', 'MLP']\n",
    "test_scores_models = [0.95, 0.96, 0.93]\n",
    "\n",
    "colors = ['red', 'blue', 'green']\n",
    "\n",
    "plt.bar(models_name, test_scores_models, color=colors)\n",
    "\n",
    "plt.xlabel('Classifier Models')\n",
    "plt.ylabel('Accuracy')\n",
    "plt.title('Accuracies of Different Classifier Models')\n",
    "\n",
    "plt.show()\n"
   ]
  },
  {
   "cell_type": "code",
   "execution_count": 1,
   "metadata": {},
   "outputs": [],
   "source": [
    "#Logistic Regression has the best classiffiers"
   ]
  },
  {
   "cell_type": "code",
   "execution_count": null,
   "metadata": {},
   "outputs": [],
   "source": []
  }
 ],
 "metadata": {
  "colab": {
   "provenance": []
  },
  "kernelspec": {
   "display_name": "Python 3 (ipykernel)",
   "language": "python",
   "name": "python3"
  },
  "language_info": {
   "codemirror_mode": {
    "name": "ipython",
    "version": 3
   },
   "file_extension": ".py",
   "mimetype": "text/x-python",
   "name": "python",
   "nbconvert_exporter": "python",
   "pygments_lexer": "ipython3",
   "version": "3.11.4"
  }
 },
 "nbformat": 4,
 "nbformat_minor": 1
}
